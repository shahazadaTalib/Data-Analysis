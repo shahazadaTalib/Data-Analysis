{
  "nbformat": 4,
  "nbformat_minor": 0,
  "metadata": {
    "colab": {
      "name": "CarDataset.ipynb",
      "provenance": [],
      "toc_visible": true
    },
    "kernelspec": {
      "name": "python3",
      "display_name": "Python 3"
    },
    "language_info": {
      "name": "python"
    }
  },
  "cells": [
    {
      "cell_type": "markdown",
      "metadata": {
        "id": "WDgr6b4eJj9z"
      },
      "source": [
        "#Cars Dataset"
      ]
    },
    {
      "cell_type": "code",
      "metadata": {
        "id": "yFXM-g5IHSrk"
      },
      "source": [
        "import pandas as pd\n",
        "import numpy as np"
      ],
      "execution_count": 1,
      "outputs": []
    },
    {
      "cell_type": "code",
      "metadata": {
        "id": "_89jDzYEJ_WD"
      },
      "source": [
        "cardf=pd.read_csv('/content/2. Cars Data1.csv')"
      ],
      "execution_count": 2,
      "outputs": []
    },
    {
      "cell_type": "code",
      "metadata": {
        "colab": {
          "base_uri": "https://localhost:8080/",
          "height": 317
        },
        "id": "t4fCCtk1KIQo",
        "outputId": "d8f9593b-fb55-40a0-f8ea-01e6c21b07f6"
      },
      "source": [
        "cardf.head()"
      ],
      "execution_count": 3,
      "outputs": [
        {
          "output_type": "execute_result",
          "data": {
            "text/html": [
              "<div>\n",
              "<style scoped>\n",
              "    .dataframe tbody tr th:only-of-type {\n",
              "        vertical-align: middle;\n",
              "    }\n",
              "\n",
              "    .dataframe tbody tr th {\n",
              "        vertical-align: top;\n",
              "    }\n",
              "\n",
              "    .dataframe thead th {\n",
              "        text-align: right;\n",
              "    }\n",
              "</style>\n",
              "<table border=\"1\" class=\"dataframe\">\n",
              "  <thead>\n",
              "    <tr style=\"text-align: right;\">\n",
              "      <th></th>\n",
              "      <th>Make</th>\n",
              "      <th>Model</th>\n",
              "      <th>Type</th>\n",
              "      <th>Origin</th>\n",
              "      <th>DriveTrain</th>\n",
              "      <th>MSRP</th>\n",
              "      <th>Invoice</th>\n",
              "      <th>EngineSize</th>\n",
              "      <th>Cylinders</th>\n",
              "      <th>Horsepower</th>\n",
              "      <th>MPG_City</th>\n",
              "      <th>MPG_Highway</th>\n",
              "      <th>Weight</th>\n",
              "      <th>Wheelbase</th>\n",
              "      <th>Length</th>\n",
              "    </tr>\n",
              "  </thead>\n",
              "  <tbody>\n",
              "    <tr>\n",
              "      <th>0</th>\n",
              "      <td>Acura</td>\n",
              "      <td>MDX</td>\n",
              "      <td>SUV</td>\n",
              "      <td>Asia</td>\n",
              "      <td>All</td>\n",
              "      <td>$36,945</td>\n",
              "      <td>$33,337</td>\n",
              "      <td>3.5</td>\n",
              "      <td>6.0</td>\n",
              "      <td>265.0</td>\n",
              "      <td>17.0</td>\n",
              "      <td>23.0</td>\n",
              "      <td>4451.0</td>\n",
              "      <td>106.0</td>\n",
              "      <td>189.0</td>\n",
              "    </tr>\n",
              "    <tr>\n",
              "      <th>1</th>\n",
              "      <td>Acura</td>\n",
              "      <td>RSX Type S 2dr</td>\n",
              "      <td>Sedan</td>\n",
              "      <td>Asia</td>\n",
              "      <td>Front</td>\n",
              "      <td>$23,820</td>\n",
              "      <td>$21,761</td>\n",
              "      <td>2.0</td>\n",
              "      <td>4.0</td>\n",
              "      <td>200.0</td>\n",
              "      <td>24.0</td>\n",
              "      <td>31.0</td>\n",
              "      <td>2778.0</td>\n",
              "      <td>101.0</td>\n",
              "      <td>172.0</td>\n",
              "    </tr>\n",
              "    <tr>\n",
              "      <th>2</th>\n",
              "      <td>Acura</td>\n",
              "      <td>TSX 4dr</td>\n",
              "      <td>Sedan</td>\n",
              "      <td>Asia</td>\n",
              "      <td>Front</td>\n",
              "      <td>$26,990</td>\n",
              "      <td>$24,647</td>\n",
              "      <td>2.4</td>\n",
              "      <td>4.0</td>\n",
              "      <td>200.0</td>\n",
              "      <td>22.0</td>\n",
              "      <td>29.0</td>\n",
              "      <td>3230.0</td>\n",
              "      <td>105.0</td>\n",
              "      <td>183.0</td>\n",
              "    </tr>\n",
              "    <tr>\n",
              "      <th>3</th>\n",
              "      <td>Acura</td>\n",
              "      <td>TL 4dr</td>\n",
              "      <td>Sedan</td>\n",
              "      <td>Asia</td>\n",
              "      <td>Front</td>\n",
              "      <td>$33,195</td>\n",
              "      <td>$30,299</td>\n",
              "      <td>3.2</td>\n",
              "      <td>6.0</td>\n",
              "      <td>270.0</td>\n",
              "      <td>20.0</td>\n",
              "      <td>28.0</td>\n",
              "      <td>3575.0</td>\n",
              "      <td>108.0</td>\n",
              "      <td>186.0</td>\n",
              "    </tr>\n",
              "    <tr>\n",
              "      <th>4</th>\n",
              "      <td>Acura</td>\n",
              "      <td>3.5 RL 4dr</td>\n",
              "      <td>Sedan</td>\n",
              "      <td>Asia</td>\n",
              "      <td>Front</td>\n",
              "      <td>$43,755</td>\n",
              "      <td>$39,014</td>\n",
              "      <td>3.5</td>\n",
              "      <td>6.0</td>\n",
              "      <td>225.0</td>\n",
              "      <td>18.0</td>\n",
              "      <td>24.0</td>\n",
              "      <td>3880.0</td>\n",
              "      <td>115.0</td>\n",
              "      <td>197.0</td>\n",
              "    </tr>\n",
              "  </tbody>\n",
              "</table>\n",
              "</div>"
            ],
            "text/plain": [
              "    Make           Model   Type Origin  ... MPG_Highway  Weight Wheelbase  Length\n",
              "0  Acura             MDX    SUV   Asia  ...        23.0  4451.0     106.0   189.0\n",
              "1  Acura  RSX Type S 2dr  Sedan   Asia  ...        31.0  2778.0     101.0   172.0\n",
              "2  Acura         TSX 4dr  Sedan   Asia  ...        29.0  3230.0     105.0   183.0\n",
              "3  Acura          TL 4dr  Sedan   Asia  ...        28.0  3575.0     108.0   186.0\n",
              "4  Acura      3.5 RL 4dr  Sedan   Asia  ...        24.0  3880.0     115.0   197.0\n",
              "\n",
              "[5 rows x 15 columns]"
            ]
          },
          "metadata": {},
          "execution_count": 3
        }
      ]
    },
    {
      "cell_type": "code",
      "metadata": {
        "colab": {
          "base_uri": "https://localhost:8080/"
        },
        "id": "yP2NCaAYKKW4",
        "outputId": "2d576ce2-ce59-4ae6-9abe-6bbcd109c4ea"
      },
      "source": [
        "cardf.shape"
      ],
      "execution_count": 4,
      "outputs": [
        {
          "output_type": "execute_result",
          "data": {
            "text/plain": [
              "(432, 15)"
            ]
          },
          "metadata": {},
          "execution_count": 4
        }
      ]
    },
    {
      "cell_type": "markdown",
      "metadata": {
        "id": "Z7xreSu2K_bZ"
      },
      "source": [
        "Introduction(For Data Cleaning)\n",
        "\n",
        "* Find all Null Value in the dataset if there \n",
        "is any null value in any column then fill it with the mean of that column"
      ]
    },
    {
      "cell_type": "code",
      "metadata": {
        "colab": {
          "base_uri": "https://localhost:8080/"
        },
        "id": "KIANzJkqK1Xj",
        "outputId": "9890e644-fc6b-4abb-f2cd-48dd7798721a"
      },
      "source": [
        "cardf.isnull().sum()"
      ],
      "execution_count": 5,
      "outputs": [
        {
          "output_type": "execute_result",
          "data": {
            "text/plain": [
              "Make           4\n",
              "Model          4\n",
              "Type           4\n",
              "Origin         4\n",
              "DriveTrain     4\n",
              "MSRP           4\n",
              "Invoice        4\n",
              "EngineSize     4\n",
              "Cylinders      6\n",
              "Horsepower     4\n",
              "MPG_City       4\n",
              "MPG_Highway    4\n",
              "Weight         4\n",
              "Wheelbase      4\n",
              "Length         4\n",
              "dtype: int64"
            ]
          },
          "metadata": {},
          "execution_count": 5
        }
      ]
    },
    {
      "cell_type": "markdown",
      "metadata": {
        "id": "HZ4HOW8tMIFU"
      },
      "source": [
        "Question Based on Value Counts\n",
        "* Check what are the different types of make are there in our dataset And What is the count count of each Make in the data"
      ]
    },
    {
      "cell_type": "code",
      "metadata": {
        "colab": {
          "base_uri": "https://localhost:8080/"
        },
        "id": "h9S2KYOdPELZ",
        "outputId": "c31d6a99-326d-49d5-876a-dd78e9d819a2"
      },
      "source": [
        "cardf.info()"
      ],
      "execution_count": 6,
      "outputs": [
        {
          "output_type": "stream",
          "text": [
            "<class 'pandas.core.frame.DataFrame'>\n",
            "RangeIndex: 432 entries, 0 to 431\n",
            "Data columns (total 15 columns):\n",
            " #   Column       Non-Null Count  Dtype  \n",
            "---  ------       --------------  -----  \n",
            " 0   Make         428 non-null    object \n",
            " 1   Model        428 non-null    object \n",
            " 2   Type         428 non-null    object \n",
            " 3   Origin       428 non-null    object \n",
            " 4   DriveTrain   428 non-null    object \n",
            " 5   MSRP         428 non-null    object \n",
            " 6   Invoice      428 non-null    object \n",
            " 7   EngineSize   428 non-null    float64\n",
            " 8   Cylinders    426 non-null    float64\n",
            " 9   Horsepower   428 non-null    float64\n",
            " 10  MPG_City     428 non-null    float64\n",
            " 11  MPG_Highway  428 non-null    float64\n",
            " 12  Weight       428 non-null    float64\n",
            " 13  Wheelbase    428 non-null    float64\n",
            " 14  Length       428 non-null    float64\n",
            "dtypes: float64(8), object(7)\n",
            "memory usage: 50.8+ KB\n"
          ],
          "name": "stdout"
        }
      ]
    },
    {
      "cell_type": "code",
      "metadata": {
        "id": "huZeCfmiRiZo"
      },
      "source": [
        "def fillnamean(cardf,column):\n",
        "  cardf[column].fillna(cardf[column].mean(),inplace=True)\n",
        "\n",
        "def fillnamode(cardf,column):\n",
        "  cardf[column].fillna(cardf[column].mode()[0],inplace=True)\n"
      ],
      "execution_count": 7,
      "outputs": []
    },
    {
      "cell_type": "code",
      "metadata": {
        "id": "9yUJe9pWNA6f"
      },
      "source": [
        "\n",
        "for i in cardf.columns:\n",
        "  if(cardf[i].dtype != np.object):\n",
        "    fillnamean(cardf,i) \n",
        "  else:\n",
        "    fillnamode(cardf,i)   \n"
      ],
      "execution_count": 8,
      "outputs": []
    },
    {
      "cell_type": "markdown",
      "metadata": {
        "id": "f6bmEcW2oksV"
      },
      "source": [
        "Question (Based on value Counts)\n",
        "* Check what are the different type of Make are there  in our dataset And What is the count (occurence) of  each  Make in the data"
      ]
    },
    {
      "cell_type": "code",
      "metadata": {
        "id": "p4PCxAqkOJTd",
        "colab": {
          "base_uri": "https://localhost:8080/"
        },
        "outputId": "322b51da-65a3-47f6-8841-abd7ef8b2509"
      },
      "source": [
        "cardf.columns"
      ],
      "execution_count": 11,
      "outputs": [
        {
          "output_type": "execute_result",
          "data": {
            "text/plain": [
              "Index(['Make', 'Model', 'Type', 'Origin', 'DriveTrain', 'MSRP', 'Invoice',\n",
              "       'EngineSize', 'Cylinders', 'Horsepower', 'MPG_City', 'MPG_Highway',\n",
              "       'Weight', 'Wheelbase', 'Length'],\n",
              "      dtype='object')"
            ]
          },
          "metadata": {},
          "execution_count": 11
        }
      ]
    },
    {
      "cell_type": "code",
      "metadata": {
        "colab": {
          "base_uri": "https://localhost:8080/"
        },
        "id": "CD0JeEiLpdU2",
        "outputId": "ed3054aa-986e-4599-840c-c63d43a54d1d"
      },
      "source": [
        "cardf.Make.value_counts()"
      ],
      "execution_count": 12,
      "outputs": [
        {
          "output_type": "execute_result",
          "data": {
            "text/plain": [
              "Toyota           32\n",
              "Chevrolet        27\n",
              "Mercedes-Benz    26\n",
              "Ford             23\n",
              "BMW              20\n",
              "Audi             19\n",
              "Honda            17\n",
              "Nissan           17\n",
              "Chrysler         15\n",
              "Volkswagen       15\n",
              "Dodge            13\n",
              "Mitsubishi       13\n",
              "Volvo            12\n",
              "Hyundai          12\n",
              "Jaguar           12\n",
              "Lexus            11\n",
              "Pontiac          11\n",
              "Subaru           11\n",
              "Kia              11\n",
              "Mazda            11\n",
              "Mercury           9\n",
              "Lincoln           9\n",
              "Buick             9\n",
              "Saturn            8\n",
              "Suzuki            8\n",
              "Cadillac          8\n",
              "GMC               8\n",
              "Infiniti          8\n",
              "Porsche           7\n",
              "Saab              7\n",
              "Acura             7\n",
              "Jeep              3\n",
              "Land Rover        3\n",
              "Oldsmobile        3\n",
              "MINI              2\n",
              "Isuzu             2\n",
              "Scion             2\n",
              "Hummer            1\n",
              "Name: Make, dtype: int64"
            ]
          },
          "metadata": {},
          "execution_count": 12
        }
      ]
    },
    {
      "cell_type": "markdown",
      "metadata": {
        "id": "SvHVbZhZp4kT"
      },
      "source": [
        "* Shows all the records where Origin is Asia or Europe"
      ]
    },
    {
      "cell_type": "code",
      "metadata": {
        "colab": {
          "base_uri": "https://localhost:8080/",
          "height": 0
        },
        "id": "pyynqeFopqv7",
        "outputId": "a1d8aa8f-cd00-4900-ba95-beed0372eaa7"
      },
      "source": [
        "cardf[(cardf['Origin']=='Asia') | (cardf['Origin']=='Europe')]"
      ],
      "execution_count": 15,
      "outputs": [
        {
          "output_type": "execute_result",
          "data": {
            "text/html": [
              "<div>\n",
              "<style scoped>\n",
              "    .dataframe tbody tr th:only-of-type {\n",
              "        vertical-align: middle;\n",
              "    }\n",
              "\n",
              "    .dataframe tbody tr th {\n",
              "        vertical-align: top;\n",
              "    }\n",
              "\n",
              "    .dataframe thead th {\n",
              "        text-align: right;\n",
              "    }\n",
              "</style>\n",
              "<table border=\"1\" class=\"dataframe\">\n",
              "  <thead>\n",
              "    <tr style=\"text-align: right;\">\n",
              "      <th></th>\n",
              "      <th>Make</th>\n",
              "      <th>Model</th>\n",
              "      <th>Type</th>\n",
              "      <th>Origin</th>\n",
              "      <th>DriveTrain</th>\n",
              "      <th>MSRP</th>\n",
              "      <th>Invoice</th>\n",
              "      <th>EngineSize</th>\n",
              "      <th>Cylinders</th>\n",
              "      <th>Horsepower</th>\n",
              "      <th>MPG_City</th>\n",
              "      <th>MPG_Highway</th>\n",
              "      <th>Weight</th>\n",
              "      <th>Wheelbase</th>\n",
              "      <th>Length</th>\n",
              "    </tr>\n",
              "  </thead>\n",
              "  <tbody>\n",
              "    <tr>\n",
              "      <th>0</th>\n",
              "      <td>Acura</td>\n",
              "      <td>MDX</td>\n",
              "      <td>SUV</td>\n",
              "      <td>Asia</td>\n",
              "      <td>All</td>\n",
              "      <td>$36,945</td>\n",
              "      <td>$33,337</td>\n",
              "      <td>3.5</td>\n",
              "      <td>6.0</td>\n",
              "      <td>265.0</td>\n",
              "      <td>17.0</td>\n",
              "      <td>23.0</td>\n",
              "      <td>4451.0</td>\n",
              "      <td>106.0</td>\n",
              "      <td>189.0</td>\n",
              "    </tr>\n",
              "    <tr>\n",
              "      <th>1</th>\n",
              "      <td>Acura</td>\n",
              "      <td>RSX Type S 2dr</td>\n",
              "      <td>Sedan</td>\n",
              "      <td>Asia</td>\n",
              "      <td>Front</td>\n",
              "      <td>$23,820</td>\n",
              "      <td>$21,761</td>\n",
              "      <td>2.0</td>\n",
              "      <td>4.0</td>\n",
              "      <td>200.0</td>\n",
              "      <td>24.0</td>\n",
              "      <td>31.0</td>\n",
              "      <td>2778.0</td>\n",
              "      <td>101.0</td>\n",
              "      <td>172.0</td>\n",
              "    </tr>\n",
              "    <tr>\n",
              "      <th>2</th>\n",
              "      <td>Acura</td>\n",
              "      <td>TSX 4dr</td>\n",
              "      <td>Sedan</td>\n",
              "      <td>Asia</td>\n",
              "      <td>Front</td>\n",
              "      <td>$26,990</td>\n",
              "      <td>$24,647</td>\n",
              "      <td>2.4</td>\n",
              "      <td>4.0</td>\n",
              "      <td>200.0</td>\n",
              "      <td>22.0</td>\n",
              "      <td>29.0</td>\n",
              "      <td>3230.0</td>\n",
              "      <td>105.0</td>\n",
              "      <td>183.0</td>\n",
              "    </tr>\n",
              "    <tr>\n",
              "      <th>3</th>\n",
              "      <td>Acura</td>\n",
              "      <td>TL 4dr</td>\n",
              "      <td>Sedan</td>\n",
              "      <td>Asia</td>\n",
              "      <td>Front</td>\n",
              "      <td>$33,195</td>\n",
              "      <td>$30,299</td>\n",
              "      <td>3.2</td>\n",
              "      <td>6.0</td>\n",
              "      <td>270.0</td>\n",
              "      <td>20.0</td>\n",
              "      <td>28.0</td>\n",
              "      <td>3575.0</td>\n",
              "      <td>108.0</td>\n",
              "      <td>186.0</td>\n",
              "    </tr>\n",
              "    <tr>\n",
              "      <th>4</th>\n",
              "      <td>Acura</td>\n",
              "      <td>3.5 RL 4dr</td>\n",
              "      <td>Sedan</td>\n",
              "      <td>Asia</td>\n",
              "      <td>Front</td>\n",
              "      <td>$43,755</td>\n",
              "      <td>$39,014</td>\n",
              "      <td>3.5</td>\n",
              "      <td>6.0</td>\n",
              "      <td>225.0</td>\n",
              "      <td>18.0</td>\n",
              "      <td>24.0</td>\n",
              "      <td>3880.0</td>\n",
              "      <td>115.0</td>\n",
              "      <td>197.0</td>\n",
              "    </tr>\n",
              "    <tr>\n",
              "      <th>...</th>\n",
              "      <td>...</td>\n",
              "      <td>...</td>\n",
              "      <td>...</td>\n",
              "      <td>...</td>\n",
              "      <td>...</td>\n",
              "      <td>...</td>\n",
              "      <td>...</td>\n",
              "      <td>...</td>\n",
              "      <td>...</td>\n",
              "      <td>...</td>\n",
              "      <td>...</td>\n",
              "      <td>...</td>\n",
              "      <td>...</td>\n",
              "      <td>...</td>\n",
              "      <td>...</td>\n",
              "    </tr>\n",
              "    <tr>\n",
              "      <th>427</th>\n",
              "      <td>Volvo</td>\n",
              "      <td>C70 LPT convertible 2dr</td>\n",
              "      <td>Sedan</td>\n",
              "      <td>Europe</td>\n",
              "      <td>Front</td>\n",
              "      <td>$40,565</td>\n",
              "      <td>$38,203</td>\n",
              "      <td>2.4</td>\n",
              "      <td>5.0</td>\n",
              "      <td>197.0</td>\n",
              "      <td>21.0</td>\n",
              "      <td>28.0</td>\n",
              "      <td>3450.0</td>\n",
              "      <td>105.0</td>\n",
              "      <td>186.0</td>\n",
              "    </tr>\n",
              "    <tr>\n",
              "      <th>428</th>\n",
              "      <td>Volvo</td>\n",
              "      <td>C70 HPT convertible 2dr</td>\n",
              "      <td>Sedan</td>\n",
              "      <td>Europe</td>\n",
              "      <td>Front</td>\n",
              "      <td>$42,565</td>\n",
              "      <td>$40,083</td>\n",
              "      <td>2.3</td>\n",
              "      <td>5.0</td>\n",
              "      <td>242.0</td>\n",
              "      <td>20.0</td>\n",
              "      <td>26.0</td>\n",
              "      <td>3450.0</td>\n",
              "      <td>105.0</td>\n",
              "      <td>186.0</td>\n",
              "    </tr>\n",
              "    <tr>\n",
              "      <th>429</th>\n",
              "      <td>Volvo</td>\n",
              "      <td>S80 T6 4dr</td>\n",
              "      <td>Sedan</td>\n",
              "      <td>Europe</td>\n",
              "      <td>Front</td>\n",
              "      <td>$45,210</td>\n",
              "      <td>$42,573</td>\n",
              "      <td>2.9</td>\n",
              "      <td>6.0</td>\n",
              "      <td>268.0</td>\n",
              "      <td>19.0</td>\n",
              "      <td>26.0</td>\n",
              "      <td>3653.0</td>\n",
              "      <td>110.0</td>\n",
              "      <td>190.0</td>\n",
              "    </tr>\n",
              "    <tr>\n",
              "      <th>430</th>\n",
              "      <td>Volvo</td>\n",
              "      <td>V40</td>\n",
              "      <td>Wagon</td>\n",
              "      <td>Europe</td>\n",
              "      <td>Front</td>\n",
              "      <td>$26,135</td>\n",
              "      <td>$24,641</td>\n",
              "      <td>1.9</td>\n",
              "      <td>4.0</td>\n",
              "      <td>170.0</td>\n",
              "      <td>22.0</td>\n",
              "      <td>29.0</td>\n",
              "      <td>2822.0</td>\n",
              "      <td>101.0</td>\n",
              "      <td>180.0</td>\n",
              "    </tr>\n",
              "    <tr>\n",
              "      <th>431</th>\n",
              "      <td>Volvo</td>\n",
              "      <td>XC70</td>\n",
              "      <td>Wagon</td>\n",
              "      <td>Europe</td>\n",
              "      <td>All</td>\n",
              "      <td>$35,145</td>\n",
              "      <td>$33,112</td>\n",
              "      <td>2.5</td>\n",
              "      <td>5.0</td>\n",
              "      <td>208.0</td>\n",
              "      <td>20.0</td>\n",
              "      <td>27.0</td>\n",
              "      <td>3823.0</td>\n",
              "      <td>109.0</td>\n",
              "      <td>186.0</td>\n",
              "    </tr>\n",
              "  </tbody>\n",
              "</table>\n",
              "<p>285 rows × 15 columns</p>\n",
              "</div>"
            ],
            "text/plain": [
              "      Make                    Model   Type  ...  Weight Wheelbase Length\n",
              "0    Acura                      MDX    SUV  ...  4451.0     106.0  189.0\n",
              "1    Acura           RSX Type S 2dr  Sedan  ...  2778.0     101.0  172.0\n",
              "2    Acura                  TSX 4dr  Sedan  ...  3230.0     105.0  183.0\n",
              "3    Acura                   TL 4dr  Sedan  ...  3575.0     108.0  186.0\n",
              "4    Acura               3.5 RL 4dr  Sedan  ...  3880.0     115.0  197.0\n",
              "..     ...                      ...    ...  ...     ...       ...    ...\n",
              "427  Volvo  C70 LPT convertible 2dr  Sedan  ...  3450.0     105.0  186.0\n",
              "428  Volvo  C70 HPT convertible 2dr  Sedan  ...  3450.0     105.0  186.0\n",
              "429  Volvo               S80 T6 4dr  Sedan  ...  3653.0     110.0  190.0\n",
              "430  Volvo                      V40  Wagon  ...  2822.0     101.0  180.0\n",
              "431  Volvo                     XC70  Wagon  ...  3823.0     109.0  186.0\n",
              "\n",
              "[285 rows x 15 columns]"
            ]
          },
          "metadata": {},
          "execution_count": 15
        }
      ]
    },
    {
      "cell_type": "code",
      "metadata": {
        "colab": {
          "base_uri": "https://localhost:8080/",
          "height": 0
        },
        "id": "MqWLya4Dq4JG",
        "outputId": "8bcc8a6b-1676-44f8-fba3-4b97992e2019"
      },
      "source": [
        "cardf[cardf['Origin'].isin(['Asia','Europe'])]"
      ],
      "execution_count": 17,
      "outputs": [
        {
          "output_type": "execute_result",
          "data": {
            "text/html": [
              "<div>\n",
              "<style scoped>\n",
              "    .dataframe tbody tr th:only-of-type {\n",
              "        vertical-align: middle;\n",
              "    }\n",
              "\n",
              "    .dataframe tbody tr th {\n",
              "        vertical-align: top;\n",
              "    }\n",
              "\n",
              "    .dataframe thead th {\n",
              "        text-align: right;\n",
              "    }\n",
              "</style>\n",
              "<table border=\"1\" class=\"dataframe\">\n",
              "  <thead>\n",
              "    <tr style=\"text-align: right;\">\n",
              "      <th></th>\n",
              "      <th>Make</th>\n",
              "      <th>Model</th>\n",
              "      <th>Type</th>\n",
              "      <th>Origin</th>\n",
              "      <th>DriveTrain</th>\n",
              "      <th>MSRP</th>\n",
              "      <th>Invoice</th>\n",
              "      <th>EngineSize</th>\n",
              "      <th>Cylinders</th>\n",
              "      <th>Horsepower</th>\n",
              "      <th>MPG_City</th>\n",
              "      <th>MPG_Highway</th>\n",
              "      <th>Weight</th>\n",
              "      <th>Wheelbase</th>\n",
              "      <th>Length</th>\n",
              "    </tr>\n",
              "  </thead>\n",
              "  <tbody>\n",
              "    <tr>\n",
              "      <th>0</th>\n",
              "      <td>Acura</td>\n",
              "      <td>MDX</td>\n",
              "      <td>SUV</td>\n",
              "      <td>Asia</td>\n",
              "      <td>All</td>\n",
              "      <td>$36,945</td>\n",
              "      <td>$33,337</td>\n",
              "      <td>3.5</td>\n",
              "      <td>6.0</td>\n",
              "      <td>265.0</td>\n",
              "      <td>17.0</td>\n",
              "      <td>23.0</td>\n",
              "      <td>4451.0</td>\n",
              "      <td>106.0</td>\n",
              "      <td>189.0</td>\n",
              "    </tr>\n",
              "    <tr>\n",
              "      <th>1</th>\n",
              "      <td>Acura</td>\n",
              "      <td>RSX Type S 2dr</td>\n",
              "      <td>Sedan</td>\n",
              "      <td>Asia</td>\n",
              "      <td>Front</td>\n",
              "      <td>$23,820</td>\n",
              "      <td>$21,761</td>\n",
              "      <td>2.0</td>\n",
              "      <td>4.0</td>\n",
              "      <td>200.0</td>\n",
              "      <td>24.0</td>\n",
              "      <td>31.0</td>\n",
              "      <td>2778.0</td>\n",
              "      <td>101.0</td>\n",
              "      <td>172.0</td>\n",
              "    </tr>\n",
              "    <tr>\n",
              "      <th>2</th>\n",
              "      <td>Acura</td>\n",
              "      <td>TSX 4dr</td>\n",
              "      <td>Sedan</td>\n",
              "      <td>Asia</td>\n",
              "      <td>Front</td>\n",
              "      <td>$26,990</td>\n",
              "      <td>$24,647</td>\n",
              "      <td>2.4</td>\n",
              "      <td>4.0</td>\n",
              "      <td>200.0</td>\n",
              "      <td>22.0</td>\n",
              "      <td>29.0</td>\n",
              "      <td>3230.0</td>\n",
              "      <td>105.0</td>\n",
              "      <td>183.0</td>\n",
              "    </tr>\n",
              "    <tr>\n",
              "      <th>3</th>\n",
              "      <td>Acura</td>\n",
              "      <td>TL 4dr</td>\n",
              "      <td>Sedan</td>\n",
              "      <td>Asia</td>\n",
              "      <td>Front</td>\n",
              "      <td>$33,195</td>\n",
              "      <td>$30,299</td>\n",
              "      <td>3.2</td>\n",
              "      <td>6.0</td>\n",
              "      <td>270.0</td>\n",
              "      <td>20.0</td>\n",
              "      <td>28.0</td>\n",
              "      <td>3575.0</td>\n",
              "      <td>108.0</td>\n",
              "      <td>186.0</td>\n",
              "    </tr>\n",
              "    <tr>\n",
              "      <th>4</th>\n",
              "      <td>Acura</td>\n",
              "      <td>3.5 RL 4dr</td>\n",
              "      <td>Sedan</td>\n",
              "      <td>Asia</td>\n",
              "      <td>Front</td>\n",
              "      <td>$43,755</td>\n",
              "      <td>$39,014</td>\n",
              "      <td>3.5</td>\n",
              "      <td>6.0</td>\n",
              "      <td>225.0</td>\n",
              "      <td>18.0</td>\n",
              "      <td>24.0</td>\n",
              "      <td>3880.0</td>\n",
              "      <td>115.0</td>\n",
              "      <td>197.0</td>\n",
              "    </tr>\n",
              "    <tr>\n",
              "      <th>...</th>\n",
              "      <td>...</td>\n",
              "      <td>...</td>\n",
              "      <td>...</td>\n",
              "      <td>...</td>\n",
              "      <td>...</td>\n",
              "      <td>...</td>\n",
              "      <td>...</td>\n",
              "      <td>...</td>\n",
              "      <td>...</td>\n",
              "      <td>...</td>\n",
              "      <td>...</td>\n",
              "      <td>...</td>\n",
              "      <td>...</td>\n",
              "      <td>...</td>\n",
              "      <td>...</td>\n",
              "    </tr>\n",
              "    <tr>\n",
              "      <th>427</th>\n",
              "      <td>Volvo</td>\n",
              "      <td>C70 LPT convertible 2dr</td>\n",
              "      <td>Sedan</td>\n",
              "      <td>Europe</td>\n",
              "      <td>Front</td>\n",
              "      <td>$40,565</td>\n",
              "      <td>$38,203</td>\n",
              "      <td>2.4</td>\n",
              "      <td>5.0</td>\n",
              "      <td>197.0</td>\n",
              "      <td>21.0</td>\n",
              "      <td>28.0</td>\n",
              "      <td>3450.0</td>\n",
              "      <td>105.0</td>\n",
              "      <td>186.0</td>\n",
              "    </tr>\n",
              "    <tr>\n",
              "      <th>428</th>\n",
              "      <td>Volvo</td>\n",
              "      <td>C70 HPT convertible 2dr</td>\n",
              "      <td>Sedan</td>\n",
              "      <td>Europe</td>\n",
              "      <td>Front</td>\n",
              "      <td>$42,565</td>\n",
              "      <td>$40,083</td>\n",
              "      <td>2.3</td>\n",
              "      <td>5.0</td>\n",
              "      <td>242.0</td>\n",
              "      <td>20.0</td>\n",
              "      <td>26.0</td>\n",
              "      <td>3450.0</td>\n",
              "      <td>105.0</td>\n",
              "      <td>186.0</td>\n",
              "    </tr>\n",
              "    <tr>\n",
              "      <th>429</th>\n",
              "      <td>Volvo</td>\n",
              "      <td>S80 T6 4dr</td>\n",
              "      <td>Sedan</td>\n",
              "      <td>Europe</td>\n",
              "      <td>Front</td>\n",
              "      <td>$45,210</td>\n",
              "      <td>$42,573</td>\n",
              "      <td>2.9</td>\n",
              "      <td>6.0</td>\n",
              "      <td>268.0</td>\n",
              "      <td>19.0</td>\n",
              "      <td>26.0</td>\n",
              "      <td>3653.0</td>\n",
              "      <td>110.0</td>\n",
              "      <td>190.0</td>\n",
              "    </tr>\n",
              "    <tr>\n",
              "      <th>430</th>\n",
              "      <td>Volvo</td>\n",
              "      <td>V40</td>\n",
              "      <td>Wagon</td>\n",
              "      <td>Europe</td>\n",
              "      <td>Front</td>\n",
              "      <td>$26,135</td>\n",
              "      <td>$24,641</td>\n",
              "      <td>1.9</td>\n",
              "      <td>4.0</td>\n",
              "      <td>170.0</td>\n",
              "      <td>22.0</td>\n",
              "      <td>29.0</td>\n",
              "      <td>2822.0</td>\n",
              "      <td>101.0</td>\n",
              "      <td>180.0</td>\n",
              "    </tr>\n",
              "    <tr>\n",
              "      <th>431</th>\n",
              "      <td>Volvo</td>\n",
              "      <td>XC70</td>\n",
              "      <td>Wagon</td>\n",
              "      <td>Europe</td>\n",
              "      <td>All</td>\n",
              "      <td>$35,145</td>\n",
              "      <td>$33,112</td>\n",
              "      <td>2.5</td>\n",
              "      <td>5.0</td>\n",
              "      <td>208.0</td>\n",
              "      <td>20.0</td>\n",
              "      <td>27.0</td>\n",
              "      <td>3823.0</td>\n",
              "      <td>109.0</td>\n",
              "      <td>186.0</td>\n",
              "    </tr>\n",
              "  </tbody>\n",
              "</table>\n",
              "<p>285 rows × 15 columns</p>\n",
              "</div>"
            ],
            "text/plain": [
              "      Make                    Model   Type  ...  Weight Wheelbase Length\n",
              "0    Acura                      MDX    SUV  ...  4451.0     106.0  189.0\n",
              "1    Acura           RSX Type S 2dr  Sedan  ...  2778.0     101.0  172.0\n",
              "2    Acura                  TSX 4dr  Sedan  ...  3230.0     105.0  183.0\n",
              "3    Acura                   TL 4dr  Sedan  ...  3575.0     108.0  186.0\n",
              "4    Acura               3.5 RL 4dr  Sedan  ...  3880.0     115.0  197.0\n",
              "..     ...                      ...    ...  ...     ...       ...    ...\n",
              "427  Volvo  C70 LPT convertible 2dr  Sedan  ...  3450.0     105.0  186.0\n",
              "428  Volvo  C70 HPT convertible 2dr  Sedan  ...  3450.0     105.0  186.0\n",
              "429  Volvo               S80 T6 4dr  Sedan  ...  3653.0     110.0  190.0\n",
              "430  Volvo                      V40  Wagon  ...  2822.0     101.0  180.0\n",
              "431  Volvo                     XC70  Wagon  ...  3823.0     109.0  186.0\n",
              "\n",
              "[285 rows x 15 columns]"
            ]
          },
          "metadata": {},
          "execution_count": 17
        }
      ]
    },
    {
      "cell_type": "markdown",
      "metadata": {
        "id": "Dm4SotLqsVO6"
      },
      "source": [
        "* Remove all the records (rows) where Weight is above 4000"
      ]
    },
    {
      "cell_type": "code",
      "metadata": {
        "id": "LkHytUChsJ2K"
      },
      "source": [
        "filterdcardf=cardf[cardf['Weight']<=4000]"
      ],
      "execution_count": 18,
      "outputs": []
    },
    {
      "cell_type": "code",
      "metadata": {
        "colab": {
          "base_uri": "https://localhost:8080/"
        },
        "id": "dwL9SeA5teNP",
        "outputId": "a5bd8860-cf37-4c9a-e3c4-6c063ad0cf11"
      },
      "source": [
        "filterdcardf['MPG_City']=filterdcardf['MPG_City']+3"
      ],
      "execution_count": 19,
      "outputs": [
        {
          "output_type": "stream",
          "text": [
            "/usr/local/lib/python3.7/dist-packages/ipykernel_launcher.py:1: SettingWithCopyWarning: \n",
            "A value is trying to be set on a copy of a slice from a DataFrame.\n",
            "Try using .loc[row_indexer,col_indexer] = value instead\n",
            "\n",
            "See the caveats in the documentation: https://pandas.pydata.org/pandas-docs/stable/user_guide/indexing.html#returning-a-view-versus-a-copy\n",
            "  \"\"\"Entry point for launching an IPython kernel.\n"
          ],
          "name": "stderr"
        }
      ]
    },
    {
      "cell_type": "code",
      "metadata": {
        "colab": {
          "base_uri": "https://localhost:8080/"
        },
        "id": "nQFhEpRLt13q",
        "outputId": "cf26b770-bad6-49d6-80c4-a775b0ae99fb"
      },
      "source": [
        "filterdcardf['MPG_City']=filterdcardf['MPG_City'].apply(lambda x:x+1)"
      ],
      "execution_count": 23,
      "outputs": [
        {
          "output_type": "stream",
          "text": [
            "/usr/local/lib/python3.7/dist-packages/ipykernel_launcher.py:1: SettingWithCopyWarning: \n",
            "A value is trying to be set on a copy of a slice from a DataFrame.\n",
            "Try using .loc[row_indexer,col_indexer] = value instead\n",
            "\n",
            "See the caveats in the documentation: https://pandas.pydata.org/pandas-docs/stable/user_guide/indexing.html#returning-a-view-versus-a-copy\n",
            "  \"\"\"Entry point for launching an IPython kernel.\n"
          ],
          "name": "stderr"
        }
      ]
    },
    {
      "cell_type": "code",
      "metadata": {
        "id": "-0U3_O0XuE2a"
      },
      "source": [
        ""
      ],
      "execution_count": null,
      "outputs": []
    }
  ]
}