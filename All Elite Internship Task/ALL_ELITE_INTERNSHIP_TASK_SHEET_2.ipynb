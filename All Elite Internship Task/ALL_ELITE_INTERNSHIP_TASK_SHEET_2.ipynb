{
  "nbformat": 4,
  "nbformat_minor": 0,
  "metadata": {
    "kernelspec": {
      "display_name": "Python 3",
      "language": "python",
      "name": "python3"
    },
    "language_info": {
      "codemirror_mode": {
        "name": "ipython",
        "version": 3
      },
      "file_extension": ".py",
      "mimetype": "text/x-python",
      "name": "python",
      "nbconvert_exporter": "python",
      "pygments_lexer": "ipython3",
      "version": "3.9.0-candidate"
    },
    "colab": {
      "name": "ALL ELITE INTERNSHIP TASK SHEET 2.ipynb",
      "provenance": [],
      "collapsed_sections": []
    }
  },
  "cells": [
    {
      "cell_type": "markdown",
      "metadata": {
        "id": "H9VtH4HqKAX5"
      },
      "source": [
        " \n",
        "#ALL ELITE INTERNSHIP TASK 2\n",
        " \n",
        " \n",
        " ## Task 2 sheet\n",
        "\n",
        "### ALL ELITE INTERNSHIP\n",
        "- [Follow us on LINKDIN](https://www.linkedin.com/company/all-elite-intership)\n",
        "- [Please join  our linkdin group](https://www.linkedin.com/groups/12553884)\n",
        "\n",
        "\n",
        "-----\n",
        "\n",
        " \n",
        "\n",
        "# **INSTRUCTIONS**\n",
        "\n",
        "#**CREATE A COPY OF THIS SHEET**\n",
        "\n",
        "\n",
        "#**YOU CAN CREATE IT BY CLICKING ON FILE->SAVE A COPY IN DRIVE AND THEN START TYPING YOUR CODE**\n"
      ]
    },
    {
      "cell_type": "markdown",
      "metadata": {
        "id": "0oyzGGUJH7c2"
      },
      "source": [
        "\n",
        "\n",
        "\n",
        "\n",
        "\n",
        "\n",
        "\n",
        " \n",
        "# **Numpy**\n",
        "-----\n",
        "Numpy is the core library for scientific computing in Python. It provides a high-performance multidimensional array object, and tools for working with these arrays.\n",
        "## Arrays\n",
        "-----\n",
        "1. A numpy array is a grid of values, all of the same type, and is indexed by a tuple of nonnegative integers. \n",
        "2. The number of dimensions is the rank of the array; \n",
        "3. the shape of an array is a tuple of integers giving the size of the array along each dimension.\n",
        " \n",
        "4. We can initialize numpy arrays from nested Python lists, and access elements using square brackets:"
      ]
    },
    {
      "cell_type": "markdown",
      "metadata": {
        "id": "X2q52n9bH7c7"
      },
      "source": [
        "# NumPy Basics\n",
        "\n",
        "| Operator\t| Description |\n",
        "|:-----------|:-------------|\n",
        "| np.array([1,2,3])\t| 1d array|\n",
        "| np.array([(1,2,3),(4,5,6)])\t| 2d array|\n",
        "| np.arange(start,stop,step)\t| range array|\n",
        "\n",
        "\n",
        "![alt text](https://www.w3resource.com/w3r_images/python-numpy-arrays-image.png)\n",
        "\n",
        "# Placeholders\n",
        "\n",
        "Operator\t| Description\n",
        ":-----------|:-------------\n",
        "np.linspace(0,2,9)\t| Add evenly spaced values btw interval to array of length\n",
        "np.zeros((1,2))\t| Create and array filled with zeros\n",
        "np.ones((1,2))\t| Creates an array filled with ones\n",
        "np.random.random((5,5))\t| Creates random array\n",
        "np.empty((2,2))\t| Creates an empty array\n",
        "\n",
        "\n",
        "# Array\n",
        "\n",
        "Syntax\t| Description\n",
        ":-----------|:-------------\n",
        "array.shape\t| Dimensions (Rows,Columns)\n",
        "len(array)\t| Length of Array\n",
        "array.ndim\t| Number of Array Dimensions\n",
        "array.dtype\t| Data Type\n",
        "array.astype(type)\t| Converts to Data Type\n",
        "type(array)\t| Type of Array\n",
        "\n",
        "\n",
        "# Copying/Sorting\n",
        "\n",
        "Operators\t| Description\n",
        ":-----------|:-------------\n",
        "np.copy(array)\t| Creates copy of array\n",
        "other = array.copy()\t| Creates deep copy of array\n",
        "array.sort()\t| Sorts an array\n",
        "array.sort(axis=0)\t| Sorts axis of array\n",
        "\n",
        "\n",
        "# Array Manipulation\n",
        "\n",
        "# Adding or Removing Elements\n",
        "\n",
        "Operator\t| Description\n",
        ":-----------|:-------------\n",
        "np.append(a,b)\t| Append items to array\n",
        "np.insert(array, 1, 2, axis)\t| Insert items into array at axis 0 or 1\n",
        "np.resize((2,4))\t| Resize array to shape(2,4)\n",
        "np.delete(array,1,axis)\t| Deletes items from array\n",
        "\n",
        "\n",
        "# Combining Arrays\n",
        "\n",
        "Operator\t| Description\n",
        ":-----------|:-------------\n",
        "np.concatenate((a,b),axis=0)\t| Concatenates 2 arrays, adds to end\n",
        "np.vstack((a,b))\t| Stack array row-wise\n",
        "np.hstack((a,b))\t| Stack array column wise\n",
        "\n",
        "# Splitting Arrays\n",
        "\n",
        "Operator\t| Description\n",
        ":-----------|:-------------\n",
        "numpy.split()\t| Split an array into multiple sub-arrays.\n",
        "np.array_split(array, 3)\t| Split an array in sub-arrays of (nearly) identical size\n",
        "numpy.hsplit(array, 3)\t| Split the array horizontally at 3rd index\n",
        "\n",
        "# More\n",
        "\n",
        "Operator\t| Description\n",
        ":-----------|:-------------\n",
        "other = ndarray.flatten()\t| Flattens a 2d array to 1d\n",
        "array = np.transpose(other)\n",
        "array.T\tTranspose array\n",
        "inverse = np.linalg.inv(matrix)\t| Inverse of a given matrix\n",
        "Mathematics\n",
        "\n",
        "# Operations\n",
        "\n",
        "Operator\t| Description\n",
        ":-----------|:-------------\n",
        "np.add(x,y)\n",
        "x + y\t| Addition\n",
        "np.substract(x,y)\n",
        "x - y\t| Subtraction\n",
        "np.divide(x,y)\n",
        "x / y\t| Division\n",
        "np.multiply(x,y)\n",
        "x @ y\t| Multiplication\n",
        "np.sqrt(x)\t| Square Root\n",
        "np.sin(x)\t| Element-wise sine\n",
        "np.cos(x)\t| Element-wise cosine\n",
        "np.log(x)\t| Element-wise natural log\n",
        "np.dot(x,y)\t| Dot product\n",
        "np.roots([1,0,-4])\t| Roots of a given polynomial coefficients\n",
        "\n",
        "# Comparison\n",
        "\n",
        "Operator\t| Description\n",
        ":-----------|:-------------\n",
        "==\t| Equal\n",
        "!=\t| Not equal\n",
        "<\t| Smaller than\n",
        ">\t| Greater than\n",
        "<=\t| Smaller than or equal\n",
        ">=\t| Greater than or equal\n",
        "np.array_equal(x,y)\t| Array-wise comparison\n",
        "\n",
        "# Basic Statistics\n",
        "\n",
        "Operator\t| Description\n",
        ":-----------|:-------------\n",
        "np.mean(array)\t| Mean\n",
        "np.median(array)\t| Median\n",
        "array.corrcoef()\t| Correlation Coefficient\n",
        "np.std(array)\t| Standard Deviation\n",
        "\n",
        "# More\n",
        "\n",
        "Operator\t| Description\n",
        ":-----------|:-------------\n",
        "array.sum()\t| Array-wise sum\n",
        "array.min()\t| Array-wise minimum value\n",
        "array.max(axis=0)\t| Maximum value of specified axis\n",
        "array.cumsum(axis=0)\t| Cumulative sum of specified axis\n",
        "\n",
        "# Slicing and Subsetting\n",
        "\n",
        "Operator\t| Description\n",
        ":-----------|:-------------\n",
        "array[i]\t| 1d array at index i\n",
        "array[i,j]\t| 2d array at index[i][j]\n",
        "array[i<4]\t| Boolean Indexing, see Tricks\n",
        "array[0:3]\t| Select items of index 0, 1 and 2\n",
        "array[0:2,1]\t| Select items of rows 0 and 1 at column 1\n",
        "array[:1]\t| Select items of row 0 (equals array[0:1, :])\n",
        "array[1:2, :]\t| Select items of row 1\n",
        "[comment]: <> | (\tarray[1,...]\n",
        "array[ : :-1]\t| Reverses array\n"
      ]
    },
    {
      "cell_type": "markdown",
      "metadata": {
        "id": "Vi06VPrVH7c-"
      },
      "source": [
        "## 1. Installation"
      ]
    },
    {
      "cell_type": "markdown",
      "metadata": {
        "id": "voIppQmhH7dA"
      },
      "source": [
        "pip install numpy"
      ]
    },
    {
      "cell_type": "markdown",
      "metadata": {
        "id": "8M1iWNucH7dH"
      },
      "source": [
        "### Importing the library"
      ]
    },
    {
      "cell_type": "code",
      "metadata": {
        "id": "ZGKZbIrhH7dI"
      },
      "source": [
        "import numpy as np"
      ],
      "execution_count": null,
      "outputs": []
    },
    {
      "cell_type": "markdown",
      "metadata": {
        "id": "-cBlTxDKH7qk"
      },
      "source": [
        "1. **Write a NumPy program to convert a list of numeric value into a one-dimensional NumPy array.**\n",
        "\n",
        "*Expected Output:*\n",
        "\n",
        "Original List: [12.23, 13.32, 100, 36.32]\n",
        "\n",
        "One-dimensional NumPy array: [ 12.23 13.32 100. 36.32]\n"
      ]
    },
    {
      "cell_type": "code",
      "metadata": {
        "id": "X-DNlKquH7ql",
        "colab": {
          "base_uri": "https://localhost:8080/"
        },
        "outputId": "8f938c1e-d6bf-4f73-ec3b-0c41f729f449"
      },
      "source": [
        "#enter your code here\n",
        "print(\"Original List: \",[12.23, 13.32, 100, 36.32])\n",
        "oneDArray=np.array([12.23, 13.32, 100, 36.32])\n",
        "print(\"One-dimensional Numpy array: \",oneDArray)"
      ],
      "execution_count": null,
      "outputs": [
        {
          "output_type": "stream",
          "text": [
            "Original List:  [12.23, 13.32, 100, 36.32]\n",
            "One-dimensional Numpy array:  [ 12.23  13.32 100.    36.32]\n"
          ],
          "name": "stdout"
        }
      ]
    },
    {
      "cell_type": "markdown",
      "metadata": {
        "id": "8-Q1x0_iH7qo"
      },
      "source": [
        "2. **Write a NumPy program to create a 3x3 matrix with values ranging from 2 to 10.**\n",
        "\n",
        "*Expected Output:*\n",
        "\n",
        "[[ 2 3 4]\n",
        "[ 5 6 7]\n",
        "[ 8 9 10]]"
      ]
    },
    {
      "cell_type": "code",
      "metadata": {
        "id": "F4fvt0gpH7qp",
        "colab": {
          "base_uri": "https://localhost:8080/"
        },
        "outputId": "f35bc408-c160-4348-f512-ea147827d95c"
      },
      "source": [
        "#enter your code here\n",
        "threeDArray=np.array([[[2,3,4],[5,6,7],[8,9,10]]])\n",
        "print(threeDArray)"
      ],
      "execution_count": null,
      "outputs": [
        {
          "output_type": "stream",
          "text": [
            "[[[ 2  3  4]\n",
            "  [ 5  6  7]\n",
            "  [ 8  9 10]]]\n"
          ],
          "name": "stdout"
        }
      ]
    },
    {
      "cell_type": "markdown",
      "metadata": {
        "id": "CTxgHD0mH7qv"
      },
      "source": [
        "3. *Write a NumPy program to sort an along the first, last axis of an array.**\n",
        "\n",
        "Sample array: [[2,5],[4,4]]\n",
        "    \n",
        "*Expected Output:*\n",
        "    \n",
        "Original array:\n",
        "[[4 6]\n",
        "[2 1]]\n",
        "\n",
        "Sort along the first axis:\n",
        "[[2 1]\n",
        "[4 6]]\n",
        "\n",
        "Sort along the last axis:\n",
        "[[1 2]\n",
        "[4 6]]"
      ]
    },
    {
      "cell_type": "code",
      "metadata": {
        "colab": {
          "base_uri": "https://localhost:8080/"
        },
        "id": "XO5nEAf2C7ro",
        "outputId": "b4597a50-a2e1-4cb7-a56e-45e8ebbd5854"
      },
      "source": [
        "twoDarray=np.array([[4,6],[2,1]])\n",
        "print(\"Original array:\\n\",twoDarray)\n",
        "\n",
        "sortalongfirstaxis=twoDarray\n",
        "sortalongfirstaxis.sort(axis=0)\n",
        "print(\"Sort along the first axis:\\n\",sortalongfirstaxis)\n",
        "\n",
        "sortalongLastaxis=twoDarray\n",
        "sortalongLastaxis.sort(axis=-1)\n",
        "print(\"Sort along the last axis:\\n\",sortalongLastaxis)"
      ],
      "execution_count": null,
      "outputs": [
        {
          "output_type": "stream",
          "text": [
            "Original array:\n",
            " [[4 6]\n",
            " [2 1]]\n",
            "Sort along the first axis:\n",
            " [[2 1]\n",
            " [4 6]]\n",
            "Sort along the last axis:\n",
            " [[1 2]\n",
            " [4 6]]\n"
          ],
          "name": "stdout"
        }
      ]
    },
    {
      "cell_type": "markdown",
      "metadata": {
        "id": "NP_UmY3OH7qy"
      },
      "source": [
        "4. **Write a NumPy program to create a contiguous flattened array.**\n",
        "\n",
        "*Expected Output:*\n",
        "\n",
        "Original array:\n",
        "[[10 20 30]\n",
        "[20 40 50]]\n",
        "\n",
        "New flattened array:\n",
        "[10 20 30 20 40 50]"
      ]
    },
    {
      "cell_type": "code",
      "metadata": {
        "colab": {
          "base_uri": "https://localhost:8080/"
        },
        "id": "SMeik-itO4S7",
        "outputId": "c3928e01-e7e3-440f-a277-0ee2122a6087"
      },
      "source": [
        "tdarray=np.array([[10,20,30],[20,40,50]])\n",
        "print(\"Original array \",tdarray)\n",
        "print(\"New flattend array \",np.ravel(tdarray))"
      ],
      "execution_count": null,
      "outputs": [
        {
          "output_type": "stream",
          "text": [
            "Original array  [[10 20 30]\n",
            " [20 40 50]]\n",
            "New flattend array  [10 20 30 20 40 50]\n"
          ],
          "name": "stdout"
        }
      ]
    },
    {
      "cell_type": "markdown",
      "metadata": {
        "id": "RVINRpluH7q3"
      },
      "source": [
        " 5. **Write a NumPy program to display all the dates for the month of March, 2017.**\n",
        " \n",
        "*Expected Output:*\n",
        "\n",
        "March, 2017\n",
        "\n",
        "['2017-03-01' '2017-03-02' '2017-03-03' '2017-03-04' '2017-03-05'\n",
        "'2017-03-06' '2017-03-07' '2017-03-08' '2017-03-09' '2017-03-10'\n",
        "'2017-03-11' '2017-03-12' '2017-03-13' '2017-03-14' '2017-03-15'\n",
        "'2017-03-16' '2017-03-17' '2017-03-18' '2017-03-19' '2017-03-20'\n",
        "'2017-03-21' '2017-03-22' '2017-03-23' '2017-03-24' '2017-03-25'\n",
        "'2017-03-26' '2017-03-27' '2017-03-28' '2017-03-29' '2017-03-30'\n",
        "'2017-03-31']"
      ]
    },
    {
      "cell_type": "code",
      "metadata": {
        "colab": {
          "base_uri": "https://localhost:8080/"
        },
        "id": "1fNzvW06UDNC",
        "outputId": "221c01a5-bb9e-4728-88ed-cfa6c2b58b48"
      },
      "source": [
        "from datetime import date, timedelta, datetime\n",
        "\n",
        "def days_cur_month(m,y):\n",
        "    m = datetime.now().month\n",
        "    y = datetime.now().year\n",
        "    ndays = (date(y, m+1, 1) - date(y, m, 1)).days\n",
        "    d1 = date(y, m, 1)\n",
        "    d2 = date(y, m, ndays)\n",
        "    delta = d2 - d1\n",
        "\n",
        "    return [(d1 + timedelta(days=i)).strftime('%Y-%m-%d') for i in range(delta.days + 1)]\n",
        "\n",
        "days_cur_month(2018,3)"
      ],
      "execution_count": null,
      "outputs": [
        {
          "output_type": "execute_result",
          "data": {
            "text/plain": [
              "['2021-08-01',\n",
              " '2021-08-02',\n",
              " '2021-08-03',\n",
              " '2021-08-04',\n",
              " '2021-08-05',\n",
              " '2021-08-06',\n",
              " '2021-08-07',\n",
              " '2021-08-08',\n",
              " '2021-08-09',\n",
              " '2021-08-10',\n",
              " '2021-08-11',\n",
              " '2021-08-12',\n",
              " '2021-08-13',\n",
              " '2021-08-14',\n",
              " '2021-08-15',\n",
              " '2021-08-16',\n",
              " '2021-08-17',\n",
              " '2021-08-18',\n",
              " '2021-08-19',\n",
              " '2021-08-20',\n",
              " '2021-08-21',\n",
              " '2021-08-22',\n",
              " '2021-08-23',\n",
              " '2021-08-24',\n",
              " '2021-08-25',\n",
              " '2021-08-26',\n",
              " '2021-08-27',\n",
              " '2021-08-28',\n",
              " '2021-08-29',\n",
              " '2021-08-30',\n",
              " '2021-08-31']"
            ]
          },
          "metadata": {
            "tags": []
          },
          "execution_count": 39
        }
      ]
    },
    {
      "cell_type": "markdown",
      "metadata": {
        "id": "q1F8BPlQH7q7"
      },
      "source": [
        " 6. **Write a NumPy program to generate six random integers between 10 and 30.**\n",
        "\n",
        "*Expected Output:*\n",
        "    \n",
        "[20 28 27 17 28 29]"
      ]
    },
    {
      "cell_type": "code",
      "metadata": {
        "id": "rqLCZFXUH7q7",
        "colab": {
          "base_uri": "https://localhost:8080/"
        },
        "outputId": "0a324aa7-5303-409e-9433-c1a88fdc13d5"
      },
      "source": [
        "#enter your code here\n",
        "import random\n",
        "lst=[]\n",
        "for i in range(6):\n",
        "  n=random.randint(10,20)\n",
        "  lst.append(n)\n",
        "\n",
        "print(lst)"
      ],
      "execution_count": null,
      "outputs": [
        {
          "output_type": "stream",
          "text": [
            "[17, 17, 16, 11, 14, 11]\n"
          ],
          "name": "stdout"
        }
      ]
    },
    {
      "cell_type": "markdown",
      "metadata": {
        "id": "6SV-FKVBH7q-"
      },
      "source": [
        "7. **Write a NumPy program to create a 5x5 array with random values and find the minimum and maximum values.**\n",
        "\n",
        "*Expected Output*\n",
        "\n",
        "Original Array:\n",
        "    \n",
        "[[ 0.96336355 0.12339131 0.20295196 0.37243578 0.88105252]\n",
        "[ 0.93228246 0.67470158 0.38103235 0.32242645 0.40610231]\n",
        "[ 0.3113495 0.31688 0.79189089 0.08676434 0.60829874]\n",
        "[ 0.30360149 0.94316317 0.98142491 0.77222542 0.51532195]\n",
        "[ 0.97392305 0.16669609 0.81377917 0.2165645 0.00121611]]\n",
        "\n",
        "Minimum and Maximum Values:\n",
        "    \n",
        "0.00121610921757 0.981424910368"
      ]
    },
    {
      "cell_type": "code",
      "metadata": {
        "colab": {
          "base_uri": "https://localhost:8080/"
        },
        "id": "STUbdlcCgcVD",
        "outputId": "757f3948-81ca-4ae5-cd06-1120e75757ff"
      },
      "source": [
        "import numpy as np\n",
        "x=np.random.random((5,5))\n",
        "print(x)\n",
        "xmin,xmax=x.min(),x.max()\n",
        "print(\"max :\",xmax)\n",
        "print(\"min :\",xmin)"
      ],
      "execution_count": null,
      "outputs": [
        {
          "output_type": "stream",
          "text": [
            "[[0.55827234 0.11814342 0.89524861 0.0554537  0.84939882]\n",
            " [0.4074592  0.16460664 0.3735932  0.20968913 0.02500139]\n",
            " [0.49199322 0.16542942 0.5527983  0.35649617 0.09170044]\n",
            " [0.10178685 0.5278291  0.83357724 0.04566849 0.22868847]\n",
            " [0.8527913  0.46156812 0.64051041 0.03332681 0.09900999]]\n",
            "max : 0.8952486082807278\n",
            "min : 0.025001388453448126\n"
          ],
          "name": "stdout"
        }
      ]
    },
    {
      "cell_type": "markdown",
      "metadata": {
        "id": "4UnW0p4SH7rF"
      },
      "source": [
        "8. **Write a NumPy program to get the powers of an array values element-wise.**\n",
        "\n",
        "Note: First array elements raised to powers from second array\n",
        "    \n",
        "*Expected Output:*\n",
        "    \n",
        "Original array\n",
        "\n",
        "[0 1 2 3 4 5 6]\n",
        "\n",
        "First array elements raised to powers from second array, element-wise:\n",
        "    \n",
        "[ 0 1 8 27 64 125 216]"
      ]
    },
    {
      "cell_type": "code",
      "metadata": {
        "id": "4VWSo3LEH7rF",
        "colab": {
          "base_uri": "https://localhost:8080/"
        },
        "outputId": "6c2b398a-b54d-49c6-d59e-32594fe956da"
      },
      "source": [
        "#enter your code here\n",
        "\n",
        "lst=[0,1,2,3,4,5,6]\n",
        "powlst=[i*i*i for i in lst]\n",
        "print(\"Original array: \",lst)\n",
        "print(\"Pow element list: \",powlst)\n"
      ],
      "execution_count": null,
      "outputs": [
        {
          "output_type": "stream",
          "text": [
            "Original array:  [0, 1, 2, 3, 4, 5, 6]\n",
            "Pow element list:  [0, 1, 8, 27, 64, 125, 216]\n"
          ],
          "name": "stdout"
        }
      ]
    },
    {
      "cell_type": "markdown",
      "metadata": {
        "id": "P2WF-t3mH7rI"
      },
      "source": [
        "9. **Write a NumPy program to create a structured array from given student name, height, class and their data types. Now sort the array on height.**\n",
        "\n",
        "*Expected Output:*\n",
        "\n",
        "Original array:\n",
        "\n",
        "[(b'James', 5, 48.5 ) (b'Nail', 6, 52.5 ) (b'Paul', 5, 42.1 )\n",
        "(b'Pit', 5, 40.11)]\n",
        "\n",
        "Sort by height\n",
        "\n",
        "[(b'Pit', 5, 40.11) (b'Paul', 5, 42.1 ) (b'James', 5, 48.5 )\n",
        "(b'Nail', 6, 52.5 )]"
      ]
    },
    {
      "cell_type": "code",
      "metadata": {
        "id": "gnH-fWS0H7rJ",
        "colab": {
          "base_uri": "https://localhost:8080/"
        },
        "outputId": "7f572746-a3a3-49da-b3e7-0aa30dc43d7f"
      },
      "source": [
        "#enter your code here\n",
        "array=[('James', 5, 48.5 ),('Nail', 6, 52.5 ),('Paul', 5, 42.1 ),('Pit', 5, 40.11)]\n",
        "\n",
        "for j in range(len(array)):\n",
        "  for i in range(len(array)-1):\n",
        "    if array[i][2]>array[i+1][2]:\n",
        "      array[i],array[i+1]=array[i+1],array[i]\n",
        "\n",
        "print(array)"
      ],
      "execution_count": null,
      "outputs": [
        {
          "output_type": "stream",
          "text": [
            "[('Pit', 5, 40.11), ('Paul', 5, 42.1), ('James', 5, 48.5), ('Nail', 6, 52.5)]\n"
          ],
          "name": "stdout"
        }
      ]
    },
    {
      "cell_type": "markdown",
      "metadata": {
        "id": "4bypVZQQH7rO"
      },
      "source": [
        "10. **Write a NumPy program to sort the student id with increasing height of the students from given students id and height. Print the integer indices that describes the sort order by multiple columns and the sorted data.**\n",
        "\n",
        "*Expected Output:*\n",
        "\n",
        "Sorted indices\n",
        "\n",
        "[4 0 5 3 6 1 2]\n",
        "\n",
        "Sorted data:\n",
        "\n",
        "1682 38.0\n",
        "1023 40.0\n",
        "5241 40.0\n",
        "1671 41.0\n",
        "4532 42.0\n",
        "5202 42.0\n",
        "6230 45.0"
      ]
    },
    {
      "cell_type": "code",
      "metadata": {
        "id": "wO_rDx9mH7rP"
      },
      "source": [
        "#enter your code here\n",
        "#question not clear"
      ],
      "execution_count": null,
      "outputs": []
    },
    {
      "cell_type": "markdown",
      "metadata": {
        "id": "JBdoVSk4Keox"
      },
      "source": [
        "#**after completing your code we will send you a form link where in you have to upload this colab link**\n",
        "\n",
        "#**to get this colab file link you have  a option on right side top of the page called share kindly click on that you will see an image like below**\n",
        "\n",
        "\n",
        "\n",
        "\n",
        "\n",
        "\n",
        "\n",
        "![WhatsApp Image 2021-08-07 at 4.05.03 PM.jpeg](data:image/jpeg;base64,/9j/4AAQSkZJRgABAQAAAQABAAD/4gIoSUNDX1BST0ZJTEUAAQEAAAIYAAAAAAIQAABtbnRyUkdCIFhZWiAAAAAAAAAAAAAAAABhY3NwAAAAAAAAAAAAAAAAAAAAAAAAAAAAAAAAAAAAAQAA9tYAAQAAAADTLQAAAAAAAAAAAAAAAAAAAAAAAAAAAAAAAAAAAAAAAAAAAAAAAAAAAAAAAAAAAAAAAAAAAAlkZXNjAAAA8AAAAHRyWFlaAAABZAAAABRnWFlaAAABeAAAABRiWFlaAAABjAAAABRyVFJDAAABoAAAAChnVFJDAAABoAAAAChiVFJDAAABoAAAACh3dHB0AAAByAAAABRjcHJ0AAAB3AAAADxtbHVjAAAAAAAAAAEAAAAMZW5VUwAAAFgAAAAcAHMAUgBHAEIAAAAAAAAAAAAAAAAAAAAAAAAAAAAAAAAAAAAAAAAAAAAAAAAAAAAAAAAAAAAAAAAAAAAAAAAAAAAAAAAAAAAAAAAAAAAAAAAAAAAAAAAAAFhZWiAAAAAAAABvogAAOPUAAAOQWFlaIAAAAAAAAGKZAAC3hQAAGNpYWVogAAAAAAAAJKAAAA+EAAC2z3BhcmEAAAAAAAQAAAACZmYAAPKnAAANWQAAE9AAAApbAAAAAAAAAABYWVogAAAAAAAA9tYAAQAAAADTLW1sdWMAAAAAAAAAAQAAAAxlblVTAAAAIAAAABwARwBvAG8AZwBsAGUAIABJAG4AYwAuACAAMgAwADEANv/bAEMAAwICAgICAwICAgMDAwMEBgQEBAQECAYGBQYJCAoKCQgJCQoMDwwKCw4LCQkNEQ0ODxAQERAKDBITEhATDxAQEP/bAEMBAwMDBAMECAQECBALCQsQEBAQEBAQEBAQEBAQEBAQEBAQEBAQEBAQEBAQEBAQEBAQEBAQEBAQEBAQEBAQEBAQEP/AABEIAcIDFQMBIgACEQEDEQH/xAAeAAEAAgMBAQEBAQAAAAAAAAAABgcCBAgFAwkBCv/EAFkQAAAFAwIDAgoIAgQLAwoHAAABAgMEBQYRBxIIFCETMRcYIkFRVpGT0dMVFjJTVFdhpSNxCTNCUhkkN2JydoGUobTUkrHSJTQ4OUN3goOzwTVzdYSVsvD/xAAcAQEBAAIDAQEAAAAAAAAAAAAAAQIGAwQFBwj/xAA/EQEAAQIDBgMFBgMHBAMAAAAAAQIRAwQFEiExU5PTExRBBiIyUWFxgZGhsdEWQnIHIzVSVGLBJDOz8DRz4f/aAAwDAQACEQMRAD8A/VMAAAABr1CoQKTBfqdUmMxIkZBuvPvLJCG0F3mZn0IhYiaptHFJmIi8tgBy9qNxoxIMp6maa0RqeTZmn6RnkpLSj9LbRGSjL9VGn/RFSyuK7XGQ8brV1sRkmeezapsY0l/20KP/AIjdMl7AaznMOMSqmnDif80zE/hETMffZr2Z9qNPy9WxEzV/TG78ZmPyd9gOLLS40NQKY+hu7KVTq3FyW9TaOWfIvOZGnKP9m3/aQ6i021Xs3VSlHUbXqG55oiOTCeIkyIxn3EtOe70KIzI/T3jzNX9ltT0SnxMzRej/ADU74+/1j74h3MhrWT1GdnBq975Tun/9+5MQABrr1gAAAAAAAAAAAAAAAAAAAAAAAAAAAAAAAAAAAAAAAAAAAAAAAAAAAAAAAAAAAAAAAAAAAAAAAAAAAAAAAAAAAAAAAAAAAAAAAAAAAAAAAAAAAAAAAAAAAAAAAAAAAAAAAAAAAAAAAAAAAAAAAAAAAAAAAAAHE/FdrHKuu5ntP6JLUii0V025WxXSXLSflZx3pQfkkX94lH6MdhXZWFW9atZr6SIzplPkTCI+7Lbal/8A2H5gPvvSXnJMhxTjrqjWtajyalGeTM/1yPpf9nGk4eazOJnsWL+HaKftm+/7o4fa0/2uz1eDg0Zaibbd7/ZHp9//AAwASzSeLbM3Ui3Yt4KaKjuTm0ye1PDai/spX/mmraR56YM8i+dTYFzu6e3q5q5alBpEeBIaTab0RtlDu83Mdk12Z7lNm3gz3Y6ZPzeT9M1DWqchm8PKzTfat62n3qtn3Y/mmONURa0b2nZXTpzOBVjRVa1/S/CL759L8I+c7nLQ9yybzrtgXJDui3ZamZcReTTnyHm/7Tay86VF0Mv9pdSIxbtucN06oab1uqTJFEXWlrhOUt8qugmmWlmZuk7g9qVGnGCV1z3CkKtTZFGqs2jyltLfgyHIzimVktBrQo0maVF0UWS6GXeQ58vqGR1fxctRMVRT7tUekxMR+W+32xLjxcrmchsY1UTTffE/Lf8Aruu/TCxbwpl/WnTbupGSj1FknNhmRqaWR4W2Zl50qI0n/Ie8ObOCKvPzLSuG3HVmpFMnNSWyP+yT6DIyL9Msmf8AMzHSY/PGvadGk6ljZOnhTO77J3x+Uw+raZm5z2Uw8eeMxv8AtjdP5w8+v3DQrUo0u4rmrMKlUuA2bsmZMfSyyygv7SlqMiIv5ipbJ4z+GDUO6EWZaesFJlVd1zsmWH2ZEVL7hngkNOPtobcUZ9xIUZn5hFuOyx7tvDTe251v2jLu+l21dEKt3BbcTq9Vae1u3tJR/wC0MjNKtnXOO4x5FP1I4LuL62mNJHpMCn1BlTZRqFNi/RNVpz7ZkeyNuSRE4naZGTKldMkPJs7zoS69SbKsitW3bt0Vrkqhd05VNozPLOuc1JJO40bkJNKPJ65WaS/USYckcZ9wW/ptevD3cNblSG6Tb90vuurPfIeU23EwSS71uOKwRF3mpRl5zG9W+NS+LEkQbj1X4XLvtDT6oyGmG7kfqUeQ7GJwyJC5cNst0YsmWSUvPmIjPoFh1SAqXWnX09LU0Cl2vpvc1+3DdRr+iKfRo5kytKEkpS3pSi7NlBEZHk8ng84xkxELJ4r7k+v9G00150Jrml1WuZamaHJeqTNUp014iz2HNMpSlDpl3JMj9BmWSysrokBzXqhxmJ071jrGiFL0lrl13KxAhS6NFpD+92pLfJSnCWRt7Y7bSUkanDUr7ReSWDHqTeKmqWjp9RqzqZo1X6Lflx1B+nUixaa+mpT5i2z+2lxKUI7PaZKUvGEkfnPoFh0AA5lZ4vL7s2owFcQ3DXcOm9vVSU3Dj3AisxqvDjuOKw3zZspScZJmZFk92DP+ZjphK0uIJxtRKSospMj6GXm6iDIBWGhetfhjiXUzPtr6vVmz7hl2/Uaec3mtqmjLY6S9iPJcSZKItvTqWTEW0S4rqNrRqxe2mMO1JFMbthbiqZU3JRuN1php9Ud51tPZp2kh1G3opZHnvLBkFhc1y3FRrQt6pXTcMwolLpEV2bMfNJqJtltJqWrCSMzwRH0IjMeVprqTZ+rll07UCw6odQolUSpUZ82VtKPao0qI0LIlJMlJMupeYQCs68MSdTb90qj2O1VabZNp/TdYnuzSJtbzqFqRANk2lEe5tJmajUeCPG0xSesurFx3HwINXFpdoFDYtu7LUnlUYkGsR4jFsQ9ii7RLZtI5gi8o9jaUH0/UWw7IqtTg0WmTKzU3+xhwGHJMhzaatjSEmpSsJIzPBEZ4IjMeZY97WxqRadMvmy6n9I0SsMcxCldi4z2reTLOxxKVp6kfRSSMc46F3zqxcvDTPo196KLs+i0vT9KKPWDuGPPKro5JSSV2LaSUx5JJVhRn9rHeQgHDNxHX7SeHSyLY0Y4e7g1LXblIQ1WpzVSZpkOO8alLNhlx5KjkvJSotyEJ6GZFnPQlku7qAVnoDrxbPEDZj10UKmVCkTKbNcplXpFRQSJVOmN43tOEX8yMj6dD6kR5IvN4mOIem8Ndm0i96zQFVSnz67FpMs0yjZOIy6SjXIIibWbmxKDPsyIjV3ZIRVvAOV3+MXVxumnfjXBtfTmnxJ7c6udSjpqRxu/tipmO027fKyayLHXOBb6uIjSZOjCdfE3MhdnriFKRJQ2ZuqUathME2Xldt2nkbO/d0/ULCyQHLzvFtrTEhqvOocF98sWKlHMKqX0tFVVER8Z7RVMx2hYT1Mt/QvOLXqnEVpLSNGG9e5VzoO0H4iJTElCDN15Sz2pZS33m6a/I2d5KI84wZhYWUA5aXxe6zRoH12n8F99sWISO3VUyqkZVTRH7+1VTMdoREnqZb+hdciX6m8W9kWZw/QuIq0Yzd1W9OlQ2EEiUcY0IeeJtZq/hrUlbZ7tze3OUmXTvFsXXsIzqJqRZelFrvXnf9Z+i6Ow8xHck8u6/tcecS22WxpKlnlaklnGCzk8EOfi4xdWKvTzvmyuD2963YBEbya0qpMRp0iOX/t2KcpJuuoMvKThRZIy7h4HFxqtZmtPBQ/qBYk9cmmT6zR0mh1Gx6O6moMktl1H9hxJ9DL/aRmRkZrDsRC0uIS4g8pURGR/oMhUur+v9G0gboVuQbXrN4XjcTZ/Q9uUZolyZCUEW91xR+SyynJbnFd3oPB4hFF4tbvt+5KRQOIfh7rul8a4ZaIFMrB1ePVqcchf2Gn3mSSTClH0IjI+vfgiMxLDpEAHPN5cT+oab2rVj6LcM913+9bT5RqtPkzWqJCbd2krYy7ISfbKwZH0IskZGWSMjMOhgFQaK8R1G1hhXFAkWnWLUu60DJFctusIJEmMakmpC0qLo40vae1ZEWcZxgyzUdk8dV86uW2mqaLcL1wXfUIW9NabTW2YUGA4S1ETKJb7Rcw6aCSs0IbLBLIsmLYddgKj0N4kLW1otOuV2RR6haVTtKQ5DuSkVgiQ9THUJ3KNZ9Mo2kZkrBdx5IsCt6dxlX/fsiRW9EeFq7b3siI8tpVxKqbFN5tKDMlLiR3k7pCckeMKIzPoZEfQLC+qPqhYtfv2vaY0mudvctssR5NUg8s8nl23yy0rtFIJteS8yVGZefAlQ414Wr9oWpvGFrLelvJltRp9AoZLizY6mJUR5tKm3WH21dUOIWlSVF1LJdDMdX3redtad2pVL2vCqN06j0eOqVLkOZMkIT6CLqZmeCIi6mZkRd4I9sByvE4xdXKvTvr3QODe+Z2nxp7dFYOpxm6i7G7+2bppl2i0mnqWF4MvOPTsPjUo2oui+qWtVvWS4qmadyJjcRh2oGhdVaZjpeStRmyRxzUS8GnavbjvMLK6VAcx6b8YV5awVmgPac8ONy1CzKi+xGqN1yJyY0aI4oi7VTDSmt8pttRmk1ls6pPJENmtcXtyXDc1Wtvhz0Dr2qiLfkqh1Ort1NilUtEhP22mZLyVE8tPnIiLzYMyMjCw6TAU7orxKULVqqVeyqxalZsm+7fbS9U7ZrSCS+lo+55lZeS+yZ4LeRF3keMGRn6/D3rN4eNPVX39W/oPFUnU3lec5n/zZ5TW/fsR9rbnG3pnGT7xLCywFR0HX36b1o1G0h+qfY/UClQ6n9Ic/u53t2zXs7Lsy7PbjGdys+ghTOnvHpfOs9txalorwtXDdtSaQZ1hsq2zCp9Pc3HhlM19pJPO7CSs0kgsEsupi2LuwgFN6K8TNt6sO123q5bVXse8bUbJ6t27WkEl+O0ZZ7dtRdHWfQsiLzdCI0mdcwuM/Ue8YT966S8KF23bp/HcdT9P/AEtGiPym21GlbkaEpKnH05SeMKIz7sEeSJYdVAIxppqDQ9VLGpF/24xPYp9ZYJ9pqfGUw+31MjStB9xkZGWSMyPGSMywYk4gAAAAAAAAAAAAAAAAAAAAAAAAAAAAAAAAAAAAAAAAAAAAAAAAAAAAAAAPjLecjxXpDMZchxptS0MoMiU4ZFkkkZ9Mn3dQH8kzokRt5yQ+hJR2jfcLPVLZZyrHfjofsHMvjszvq/8AXbwFXL9VO37P6X5lPZbe07POdm3du6bd2N3TPnEE0m00tniPqV4XZf8AfFco1/rqTvOU6E+cd2nwCwjsFIcTlSMZQf8Ad2oI+uSP1/D/AMLP1e8XH6Grf1I3cj9J7/4O7t+17fdv7Xb23l7sf/Dt6DOIhjd1+xMiyUtLYfQrtmiebLODUg8YVjvx1L2j7DiHVvTW2OG6o2fd1g3zW6zfyKm0UOnTXzkO1CAeW+wShtGUoxhBf3tyyLrgi7ZivOSIrL7sdcdbjaVqaWZGpszLJpPBmWS7uh4GMxZYl9QABFAAAAAAB4l8Ul2vWXX6FHTl2o0uXEQXpU40pJf8TH5hKSaTNKiMjI8GR+YfqwOC+JzSeTp9fD9cgRj+gq+8uTHWlJ7WXlHlxkz83XKkl/dPBfZMfUP7NdTw8HHxchiTaa7TT9Zi94+22/7paZ7YZOvEw6MzRG6m8T9/Cfx/V6mnOkVBa05puo9YsW4L5l1l59ESk01SmWGENOKbNT7iMrIzUk8Y6Y8x94kDtMRX0x6dc3CVcDEJlHZNv0+ZK7eOj0oSoiSv+SjIhz/T7yvCkxG6fS7rrEOK1ns2I851ttGTMzwlKiIsmZn/ADMxseEO/wD15uD/APk3/wDxDeMfRc9j41eLXixN5mafexKdmL7oiKaop3Rumbb/AFu1vC1HLYeHTRTRbdF91E3n1m80zO+fru9E21YpNR0dm1nS6jzlv0K4WoVUMpbBFJSlJqNtCjLuUlRKI8EWfQXcKpG3U6vVq3JKZWapLnyCSSCdlPqdXtLuLcozPHU+n6jOhUOqXLWIdBokNcqdOdSyw0gsmpR/9xF3mfcREZn3D3Mlgzkst/1FUTVa9dXC8xERNU/dEfg83MYkZnG/uomI4UxxtF+EffLq/gdpD7FvXTXloMmpsyNFQZ+c2ULUr/6xDpsRTS2wommtjUy0Yy0uriN7pLySwTz6j3OL69cbjMiz3ERF5hKx+dfaLUKdV1TGzdHw1Tu+yIiIn74h9Y0nKzkslh4FXGI3/bO+fzlU2vXEBT9AF2nVLntuS/bFeqxUuqVxD21qiktJ9m66kkmakqV0zlJF1POcEdbcadG4cLs0IreoF4zbb+kWaauTbNfiSGinLmJTujpjPoPe5lZJ8gjMjLrjpkuk65QqJc9Il2/cdIh1SmTmzZlQ5jCXmXkH3pWhRGSi/mQqC1eCjhYsq503hb2jVGaqiHSeaXIcflNMuEeSU2y84tpsyPqRpSWPNgeND0VH3sdy1+FwavalR1P1yTWoz1STKTlanyhJVuWR/wBvJJUf+cLq442m3eE3UsnUEok0c1Fku4ydQZH7RZt16a2Ve9atu4roovO1C0Zx1KjPcy63ysk07TXtQokr8nphZKL9BtXxZNsakWnU7GvSmfSNErDHLzYvbOM9q3kjxvbUlaepF1SojC6OTbruu/r11G0n4cabqpP03t2rWHGrcqqUxSGqlVnkoSgokaQsjJpREW4zTlXf0PzV5xCWdTdJtUdGLCjcSl93vOk31TZr1AumqMVSRFQlzaUntybQ6yXl7SQeSVuMy+yO0b/0A0c1TtSnWVqBYVPrVJpDSGICH1OE9FQlJJIm30qJ1HkpSRmSyM8FnIjdvcHfDVacGm0+3dKqfBRSapHrUZ1qVJ7fnGM9ktbxudo6SdysIWpSOp+SESWQWxokV3+kH1MmOR21PsWNSEtOGkjUglOeURH5s7Sz/IhXvGLbkDxp9MLh1A1Lu6wrPqdFmUSPcduVUqa7BqJrNZIckGlRIbdSaSPJFnb3kRGOu4Gm1lUzUCqaowaL2Vz1qCzTZ07mXVdtGZPLaOzNRtpwfnSkjPzmY3Lwsu0tQKBJta97cp9cpEsiJ6HOYS62oy7jwfcou8lF1I+pGQXLONtauHvQy0bPZa1a4yNe6pR7geYhx6S7eqKkqpqccSSSbilHWb5EZko8JVgiz34Hadv02NRaDTaPDdkOsQYjMZpcj+tUhCCSRr6F5RkRZ6F1z0IVZpxwfcNektxFdthaT0yBWEKNbMt9+RMWwr+81zDiyaPqZZRtPB4FxhKuKtZr98VrXfUWvxy7ONqnZn0jSGu4nriiGUdLSfStaXWzx58DZueyYnCzR9ANTpT5MR7SMrWu6YroSo1STudecP0JlklWT/vGOmNQ9G9NNV5lv1DUG1maxItaemp0lbj7rfLySMjJWG1pJZZSnyV7kngskPS1A0+s/VO0ahYl+0VFWoVUQlEqIt1xreSVEpOFtqStJkpJHlKiPoF0c46AU+RXdBtW9camyaZuqL9brLJqLyipzbLjENP8uzb3F/pDw7XQtz+iwdQ2hSlHp3PwSSyZ+S6OsKfZNrUmy2dPKbSER7ej076JagocWSUROz7PsyVnf9jpnO7z5z1HxtLT6zrGsmFpzbNDajW5Topwo8B1xchBMHnKFG6pSlke487jPvC6qu0+rNJqvBzSl0ypxZZeDsi/gupX1TA2q7j8yiMj9B9B8+BeJFh8JmmyYsdtknaSbyyQki3LU6s1KP0mZ9TMSSwOF/QjS1y5HdP9Po9F+tsc4lXQxMkmh9k92UJQpw0tJ8tXRsk4z07iE2seybY03tOmWNZdM+jqJR2OXhRe2ce7JvJnje4pS1dTPqpRmAoHhObQzrNxINNJJKCvlpRJLuycfJn/ALTHj/0j1TpdF0tsas1yKqTToGoFHkzGUt9objCDcUtJJ/tZSRljz5HRtqabWVZFauS4rXovJVC7pyalWXuZdc5qSSdpL2rUaUeT0wgkl+gojjwIjtjSwjLJHqjb2S/+aoPVPRc56zaSlp+eph3/AEA7U5bt/pHnW+w2Yztzn7fm2faz0xnoPzyrdpXBO4JXb5ZjV2k2dI1Wdu4maflmZGt9yQaUPslg9hoMyWk8GRYJXcO1ajwT8K1Wu9V8z9FaE5VVum8vBvJiuLM8mpUVKyjqMz6nls8+cXMdOp50/wCiTgxzgmzy/Ldknsuyxt2bMY246YxjHQL2HH3gK0nd0/PU0+PfXZVqHG5hVSPUpvsNmM7TPsftebZ9rPTGeghN8Wdp7p/w1aMXrp5Juu4tLLZvqNdFXVXY5nM5N1xzL7jZNN7m0Or3FhGDJRGRq6GfRLfAxwmN3QV3o0RoZVAnO1Js3Hzh7s5/807Tl8fp2eBdr1Np0inrpMiBGdguMnHXGW0k2lNGW00GgywacdMYxgLlkYl6vaWRLIVqNJv+gFbHYcx9J8+2cdSMZ6KI8GZ920upn0xnoPzyuqMuNwG3jecmiSI9r3Pqgmv0OmutGlR0pycjZtQrGEr2qMi7sH06GOxmeBfhLYuYrub0RonPk52pNm4+qISs5/8ANDc5fH6dnj9BHP6QFhiLw6sRozKGmWrmoKG20JJKUJKY2RERF0IiLzBAt61tZNJa3pxH1EpF80Ju2GoiXVzFTG22oiUpLLbmTLs1J7jQrBkZYwOArkSVW4TdaNQqNT3YdqXjqpDqdvJW2baXovPR0KfQg+5K1pMy/kY7MuHgv4XbyulN9XFo3RZNYcWT7riFvMsvuH1NTrDa0suGZ9TNaDz58if3npLp3qBZCdN7ptePItptUdTdOjuORGm+wWlbJJ7BSDSSVISZJIyLpgyx0CJsOOuIW0qY7xn2zN1H1avbTq3rns5umUOv23WypW2a08anIjz6kKSlKyUlWDxlRo69w9DV/h10KtyPQ7b1X4u9ea4i46lFj06hyLvTVFzHjcI23CilGWpaEqwZrJJknp1zgdf3zpzYmpltuWjf9q06vUhzBnFmsk4lKiLBLSZ9ULLJ4UkyUXmMQjS3hO4d9F6yu4tN9LqbS6qrJJmuvPzH2iMsGTa5C1qayR4PYZZILi147KY8dphKlKJtCUEpZ5UZEWMn+o4s0tpV9cWtUve6744kb6slq27jmUiJa9mVVukrprDC9qVy1GhS3TWXXKix0PB46F2uKc1G4P8Ahs1ZuU7xv3SimVCsrUSnpbT8iIt9Rdxukw4gnTxgsrJR4Ii7ghXOnC9Op8jiv1ohUnVifqLFplpw4CK5N7FTrhtqwbanWSSh80GZp7XHlHn0C2/6PGLGjcK1tKjsNtm/NqTrppSRGtfOOluP0ngiLP6ELXtLQrSWwq9MuSzLJhUadPpbNFfOGtxtk4bRmaGkskrs0YMzPclJKMz6mY9jT3TuztKrUi2RYVH+i6LCU4tiLzDr+w3FmtZ73VKWeVKM+pn39OgTKRDjOrW1cN1V/jYtu0GXF1afHpqIzTJeW6r6P3KQn9VkSk/zUOhuF7VnSq7tBrXmWjXqVEiUKjRodRhKfbaXTHWWiS428gzI28KSZ5PBGR5LJHkWHbmmlk2lddy3tb1F5StXg6w/WpXMvOc0tlvs2z2LUaEYT0wgkkfnyYru9OC7he1Buld53Xo/SZNXec7Z59h+RFS+4Z5NbrbLiG3FGfeakmZ+fIXFO8LN92NqPxoa73Tp47Hk0h6nUpjnI+DamPN7kOPIMvtJNSTIlefGfOLA4/qJVqzw21V+nU56oxqRU6bVqpDZTuVIgMSErfTjzkSS3H+iTFr2botpdp5cc+67Hs6HRKjUoMamyDhqcQycaPnsW0sbuybJOT6oSRnnqZj09RZ12Uyxq5ULGt2HXq9HhOLgUyW/2TUt0i6NqVg8Z6ljoRngjMs5JfePJoOsuktV07Z1Jpl90FFqpipeOcc1tDMdBJI9izM/IUnuNB4MjLGMjh/Siu0K5+FDi3uO14px6RU67X5cJs2zbMmVw0KSe0+qckecebI/lLvj+j3j1dq5ry4bqpRdVm8KkWWVvz1rVNLvSzFL/FFJNX2TUlJ4wZkRjoThk0Tn1DR6+Ea0Wj9Hr1drdQrVUt83XGlxYclKUIjrUg0qQvs0lnaaTLPmMjInATzRuiuucLVpUO3CbhSJFkxWYhtkSUtvOQy2q/7asiuuAe9bLY0MpmlapcSk3hZjsqn3FRpC0tS2paX1mt5TZ4UpK8539SPqWckY6Pt6gUm1aDTrZoMTlabSorUKGx2il9ky2kkoTuWZqVhJEWTMzPzmK31U4U+HrWqqJrmpWl9MqtTIiJU5t16HIcIiwROOx1oW4RF0IlGeAFR1Cv0LVTjvtWVphNYqbdhWvUo911OConI6TkGSY8NbqfJUslkpW3PTr5yPH24ALttuDpJcVl1CtQ4dcti6q0VWgyHktvRUqlLWla0qMjJBkZ+V3ZIy8w6G080w0+0moCbX04tGm2/TEq3qZhs7TcXjG9xR5U4rBEW5RmfTvEE1C4PuGvVS6zve+tKKZUK2tRLelofkRjkKLuU8llxCXTwRFlZKPBEQXFE6F37a+pHFpxHXLZtUZqVK+r9PiNTGVEpp5TLS21qQouik7kmRKLoeMl0wY9r+jS1J06qfDhRbHpdWgRLhobko6nT3FpakKNby1pkEk+q0KSpJbyyWUmRnksC9oOimlmnKbkumxrNh0SoVKhppkg4i3EMnGjtq7JtLO7skEnJ9UpIzz1MxznwpcNmhuunCPpxI1U06p1bkxYspDMve7GkpRzbx7O2YWhw05Mz2mrHU+gD2FXTaeoXHUd1WQ61VqLYdiTYN21SAg5DCnHXDU3Fy2Su2WkiUexOT6GXeRkNXTzSy3KpY0nULg04qK3ZltuOvSzo89DFSo0BeTU40caSknIZGeTURqyRKyRdw6f080x0/0nt9FracWlTrfpaFbzYhtbe0XjG9xR5U4rBEW5RmfTvFcXZwT8LN73Su87j0cpD1WddN55xh+RGaecM8mpxllxLSzM+pmpJ58+QuN3hO1iuLXLRuDe91wIDFURNl02Q9T93KTDjumjmGN2T2LxnvPrkXENGiUOi21SIlAt2kxKZTIDSWIsOIylpllsu5KEJIiSRegiG8IoAAAAAAAAAAAAAAAAAAAAAAAAAAAAAAAAAAAAAAAAAAAAAAAAAAAAAD4y1SURXlw2kOyEtqNptatqVrx5JGfXBGeOuB9gAci8Plz2s5Vr91U1nv6BR7qrkxVv1WkSjahIik2SUJSkjPcsySkk5Lu2K3bjyoV94hN3fWbtfrrQvqZv7f6X7c+25Tv3bNuzft8+7Z58+YdVXZw06NXjcFUu2tWbGfrFVjqZefU66SN5o29qTZKJBLxjyiLOSz35Mc+HpPxYHoz4vx2dbh0Ttez+lPpNPa9nzfMZ+3nZu/zN23pjzDkifkxt83scQt0WozWbC1W0Yv6n1e66LMTb9LpMVTUxEpKyWlSVER7k9Fmk1efenbtPCh1tEVJXFZXMaQ1IU2k3W0K3JQvHlER9MkR564FZWnwz6NWbcFLu2i2cwxWKUyltp9Lzpo3kjb2ptmo0b8Z8rGcnnv6i0xhMrAAAIoAAAAAAA8q57XoN5USTbty05qbAlp2uNL8x+ZSTLqlRH1Iy6kPVAZ4eJXhVRXRNpjfExxiWNVNNdM01ReJcZ6jcG120mU9O07lt1mAozUiI+4lqU2X93J4Q5/PKT/AEFSytGdWobxx3dNrkUojxlqmuup/wC0hJl/xH6TAN+yX9o2p5bDjDx6acS3rN4n77bp/BrGZ9ksnjVbWHM0/SN8fn+7gG0uF3WC6H0FIt76FimZb5FSWTW0v/yyy4Z//Dj9SHWGj2glp6RxjlRTOpVx5vZIqTyCIyLzoaT17NPp6mZ+cz6EVnAPJ1r2x1LWqJwcSYow54007r/bO+Z+zh9Hd072fyenVeJTE1VfOfT7PT/kAAGqPcAAAAAAAAAAAAAAAAAAAAAAAAAAAAAAAAAAAAAAAAAAAAAAAAAAAAAAAAAAAAAAAAAAAAAAAAAAAAAAAAAAAAAAAAAAAAAAAAAAAAAAAAAAAAAAAAAAAAAAAAAAAAAAAAAAAAAAAAAAAAAAAAAAAAAAAAAAAGsuUecISWPSYDZAavNOehPsDmnPQn2C2S7aAavNOehPsDmnPQn2BYu2gGrzTnoT7A5pz0J9gWLtoBq8056E+wOac9CfYFi7aAavNOehPsDmnPQn2BYu2gGrzTnoT7A5pz0J9gWLtoBq8056E+wOac9CfYFi7aAavNOehPsDmnPQn2BYu2gGrzTnoT7A5pz0J9gWLtoBq8056E+wOac9CfYFi7aAavNOehPsDmnPQn2BYu2gGrzTnoT7A5pz0J9gWLtoBq8056E+wOac9CfYFi7aAavNOehPsDmnPQn2BYu2gGrzTnoT7A5pz0J9gWLtoBq8056E+wOac9CfYFi7aAavNOehPsDmnPQn2BYu2gGrzTnoT7A5pz0J9gWLtoBq8056E+wOac9CfYFi7aAavNOehPsDmnPQn2BYu2gGrzTnoT7A5pz0J9gWLtoBq8056E+wOac9CfYFi7aAavNOehPsDmnPQn2BYu2gGrzTnoT7A5pz0J9gWLtoBq8056E+wOac9CfYFi7aAavNOehPsDmnPQn2BYu2gGrzTnoT7A5pz0J9gWLtoBq8056E+wOac9CfYFi7aAavNOehPsDmnPQn2BYu2gGrzTnoT7A5pz0J9gWLtoBq8056E+wOac9CfYFi7aAavNOehPsDmnPQn2BYu2gGrzTnoT7A5pz0J9gWLtoBq8056E+wOac9CfYFi7aAavNOehPsDmnPQn2BYu2gGrzTnoT7A5pz0J9gWLtoBq8056E+wOac9CfYFi7aAavNOehPsDmnPQn2BYu2gGrzTnoT7A5pz0J9gWLtoBq8056E+wOac9CfYFi7aAavNOehPsDmnPQn2BYu2gGrzTnoT7A5pz0J9gWLtoBq8056E+wOac9CfYFi7aAavNOehPsDmnPQn2BYu2gGrzTnoT7A5pz0J9gWLtoBqlKXnqksfoNhCiWklF3GJZbsgAAAAAAAAAYuf1av5GNEbzn9Wr/RMaIyhJAAaUWtUedUZtHhVaHIn03s+ditPpW9G7RO5vtEEe5G5JGadxFkupDKKaqomYjhx/RhNURaJ9W6AAIoAAAAAAAAAAAAAAAAAAAAAAAAAAAAAAAAAAAAAAAAAAAAAAAAAAAAAAAAAAAAAAAAAAAAAAAAAAAAAAAAAAAAAAAAAAAAAAAAAAAAAAAAAAAAAAAAAAAAAAAAAAAAAAAAAAAAAAAAAAAAAAADai/1Z/zGqNqL/Vn/AKQkrD7AADFkAAAAAADFz+rV/omNEbzn9Wr/AETGiMoSQUrYE6LTNetc6lOdJqNEat595Z9yUJgOGoz/AJERi6hyVekuo1HWLVvTagPtN1W+J1tUttThGaW4xQHHJLiiSZGaSbSaTwZH5fePZ0v/AOLnf/qj/wA2E8vPf9/Lf1z/AOPEXPolqpWtSItUbuijMUqoxXGpkWO0Si7SmyUb4zp7jPKjIlErGCynuLuHkay6+2tbVq3RTrWu5LNz0po2mlohLdZZlZL+EbqmzY7TGfINWc9MZHmSod/ae6lWreV31C2l02poK0n/AKHgPxiaS5lcVTnauuZJLidhYxjtD7/NAatd1uWvw7XZpPXZC415RVzkSqeqO4bz6lylOlJLCfKbUgyX2mdpF3mQ8iz0XQle1Vsqy0UuJdldNmfUYxPtsMxHpLqkERbnDQyhRpQR/wBoyJP6jzdCryql+WQ/cNVqqKia6xUmI8hCEJSqM3JWlnGwiIyJBJ69595mYh7Nz0DTPV+q16/5pU6FcVv0xqjz3m1G0ZsJX20YlER4XuUle3vVksZHt8Mz7crTmXKabcbbeuGsOIS42ba0pVMcMiUlREaTwfcZZIFevUdf9I6VNl0+fdxNvU+WqDNxBkqRFeSraZPLS2aW05PBLUZJPB4M8GJBdOoNn2ZCiT7hrKGW6grZDQwy5JdknjP8JplKlrLHUzSkyIupiibf1IsK1qNqtbtzSP8AHqjctXbjQDjLUuom4lKEtNYSZOKNXkmRZNOSzgjyNCfR7lsGp6b1a771qNow4tnIoztXagsSm4k0lIUpl43m3Etb0kREvBZNvGcBYuv5OqFgKs9V+/WiGVCSZoVLVuTtWStvZmgy3k5u6dnt3Z6YyPjRdWdP7hplWq1LrxqZoTRv1Ft6I+xIjNkk1b1MOIS7tNJGZHt64PGRSS6VSaVSKLqLTbhrV00CNfH05XJ79M7Ilkcc2uabaabSlbSF7FGtCTLJKPrjI37vrtI1EuW6LysV8p1EpVhVOnVCqMoUTEmQ55bTCVmREs0ElajxnG8iPvCwtOga4aW3PV4VDol1tvyqkg1wt8V9pqVgsmlp1aCbWoi70pUaiwZGWSMefYV/yXW9QaneldYap1t3LLhsvvpbaRGiNttmlJmkizg1H1PKjzjJ9BV5XjbF8WDphp7aL6pVzxJlFlLiojrQ7TWo5IU++4RpLs07CURGfRW8sZyNG5KTWqpZmo7lH5w007U0qhNKHHS+9yrRsqcUlpRGlw09F7TIyPZ3GFkX/Z+ptkX5IkQ7YrSpEmKhLrsd+K9FeJtX2XCbeQhSkH5lERp/UbF3X9aVitRnbnq3LKmrNuMw0w7IffURZVsZaSpxeC6mZJMi84rDTBds3VqOxdUDWCrXxPp1Jejb/ophiMw06tBmhxxhltPaZSRkhR7iwo8ENzWW7Stq+babqVcZtGlSIcrtLnKmNSX0OkaMQ23XW1oZ3llZ7knu2ERdSEsqZuavabs2mxfLt1R0UORKTCTMU24SUPqVt2OJ27mzI+h7yLb58D7WlqjYt8zpdMtqtnImQW0vPMPRXozhNK+y4lLyEmtB/wB9OU93XqObKe/Hqdi1hRz5dTaf1agr7efFSw8+ha2DJbjRIQSdxHnGxJde4Wzf9Mm1XWB6nUhRNz52ntUjMOF0PtFPtkjr+hq/2ZFsNfUHiBttxuk03T270rqL9yQKe6tMFZsvsm+SH0NOut9k50PBm2ozLvIy7xclSqVPo9PkVWqzGYkOI0p5995ZJQ2hJZNSjPuIiHL9Sv2zZ+lenlg011bFeo1coUaoUo4riXYDjLyEO9qW3CC39CMzwo1FjORcXEJSKpW9J6xEpUN6atpcaU9EZTuXIYafQ462ki7zNCVdPP3BYbtva36YXVVYVDolyLdn1FK1xI7sCSwt5CEGs1pJxtOUbSPC/snjBGZ9B/bd1u0tus5p0K7WH26bFXMmPLYeZajtIVtUa3HEJQkyPvSZ7sdcY6iv5+pNi6g6s6arsuqIqKYyaqp1xphaUMkqJ0aUo0kRL6dUd5Y6kXQeBRqFUaxwgx4lDpzkt1MhUx+JHRlyUy1UTcdQSS+0o0JV08/cFhdFpat6e3xUTpFt3B28zseZQy/EfjKeZzjtGieQntUd3lIyXUuvUbB6m2OVnyr+Ot/+QYTjjT8vlnvIWh3slFs2bzwvp0T+vd1FbVG87X1X1F0+LTaWVTcoE1+o1KWwytKYERUdbZsumZFtW4pSS7M+vkmZl0FaVq87doPD9d+llVnLZupiqTkrpfLuG8SFTzdS7gk9GjbMldofk9e/PQLF3Qtx606aWpVpFCrlxLaqMRhuS7FZgSX3SZWRmlwktNqM04I8mWST03YyWd2fqjYFNteFecm5oyqPUlIRCfYSt9Ulas4Q022SlrX0PyUpMyweSLBirWL/ALOsHXi8pt41ZulsP0Gjk3KeaV2WUpdM0GsiMiUfeST6qweM4Ebp0ajUuwKJcNyLuC040m6qpWKDWY0RCm6Ky+pfY8y24lRJadSo8EpGPKLJp7wsOg7Rve1r6gO1K1asiayw8qO+k21tOsOl3ocacJK21d3RSSMe6Kp0KuOVcq7omPfRNVZanMss3PT6YcIq2RNFlay6ktTZ+RuSZpPzYwLWEkAAAAAAAAAAAAAAAAAAAAAAAAAAAAAAAAAAAAAAAAAAAAAAAAAAAAAAAAAAAAAAAAAAAAAAAAAAAAAAAAAAAAAAAAAAAAAAAAAAAAAAAAAAAG1F/qz/ANIao2ov9Wf+kJKw+wAAxZAAAAAAAxc/q1f6JjRG85/Vq/0TGiMoSQQ62NPPq5qJet/fS/MfXD6N/wAU5fZyvKMKa+3uPfu3Z+ynHd17xMQHPhZjEwaa6KJtFcWn6xeKrfjTE7vl8ruHEwaMSqmqqN9M3j6TaY/SZAABwuQAAARWw7H+pH1g/wDKnO/Ttbk1j+o7Pse22/w/tHuxt+10znuISoAAB5V10P6z2xVrc5rlvpSC/D7bZv7PtEGndtyWcZzjJZ9I9UAHlWpQ/qxbFJtzmuZ+i4LEPttmztOzQSd23J4zjOMnj0j1QAAAAAAAAAaFdpr9Yo8ulxqtLpjslo20TIhpJ5hR9yk7iMsl+pGN8AFe0HTO4iu+Bed+32VxS6NHej0tpimIgssG6RE46tJLWbjhpIizlKSLOE9RYQAAAAAIrSbH+i9Q7gv36U7X6dhwonKdht7Hl9/lb9x7t2/u2ljHnEqAAAAAAAAAAAAAAAAAAAAAAAAAAAAAAAAAAAAAAAAAAAAAAAAAAAAAAAAAAAAAAAAAAAAAAAAAAAAAAAAAAAAAAAAAAAAAAAAAAAAAAAAAAAAAAAAAbUX+rP8A0hqjai/1Z/6QkrD7AADFkAAAAAADQr1Yp1vUOo1+sSOXgU2I9MlO7FL7NltBrWrakjUeEkZ4IjM/MQpzxvOHf8wv2md8kXkA7+UxclRTMZrDrqn02a4p/G+HXf8AGHUzFGarmPL100x9aZq/Sun/AJUb43nDv+YX7TO+SHjecO/5hftM75IvIB2/MaPyMXq09l1/B1Hm0dOruqN8bzh3/ML9pnfJDxvOHf8AML9pnfJF5AHmNH5GL1aeyeDqPNo6dXdUb43nDv8AmF+0zvkh43nDv+YX7TO+SLyAPMaPyMXq09k8HUebR06u6o3xvOHf8wv2md8kPG84d/zC/aZ3yReQB5jR+Ri9Wnsng6jzaOnV3VG+N5w7/mF+0zvkh43nDv8AmF+0zvki8gDzGj8jF6tPZPB1Hm0dOruqN8bzh3/ML9pnfJDxvOHf8wv2md8kXkAeY0fkYvVp7J4Oo82jp1d1RvjecO/5hftM75IeN5w7/mF+0zvki8gDzGj8jF6tPZPB1Hm0dOruqN8bzh3/ADC/aZ3yQ8bzh3/ML9pnfJF5AHmNH5GL1aeyeDqPNo6dXdUb43nDv+YX7TO+SHjecO/5hftM75IvIA8xo/IxerT2TwdR5tHTq7qjfG84d/zC/aZ3yQ8bzh3/ADC/aZ3yReQB5jR+Ri9Wnsng6jzaOnV3VG+N5w7/AJhftM75IeN5w7/mF+0zvki8gDzGj8jF6tPZPB1Hm0dOruqN8bzh3/ML9pnfJDxvOHf8wv2md8kXkAeY0fkYvVp7J4Oo82jp1d1RvjecO/5hftM75IeN5w7/AJhftM75IvIA8xo/IxerT2TwdR5tHTq7qjfG84d/zC/aZ3yQ8bzh3/ML9pnfJF5AHmNH5GL1aeyeDqPNo6dXdUb43nDv+YX7TO+SHjecO/5hftM75IvIA8xo/IxerT2TwdR5tHTq7qjfG84d/wAwv2md8kPG84d/zC/aZ3yReQB5jR+Ri9Wnsng6jzaOnV3VG+N5w7/mF+0zvkh43nDv+YX7TO+SLyAPMaPyMXq09k8HUebR06u6o3xvOHf8wv2md8kPG84d/wAwv2md8kXkAeY0fkYvVp7J4Oo82jp1d1RvjecO/wCYX7TO+SHjecO/5hftM75IvIA8xo/IxerT2TwdR5tHTq7qjfG84d/zC/aZ3yQ8bzh3/ML9pnfJF5AHmNH5GL1aeyeDqPNo6dXdUb43nDv+YX7TO+SHjecO/wCYX7TO+SLyAPMaPyMXq09k8HUebR06u6o3xvOHf8wv2md8kPG84d/zC/aZ3yReQB5jR+Ri9Wnsng6jzaOnV3VG+N5w7/mF+0zvkh43nDv+YX7TO+SLyAPMaPyMXq09k8HUebR06u6o3xvOHf8AML9pnfJDxvOHf8wv2md8kXkAeY0fkYvVp7J4Oo82jp1d1RvjecO/5hftM75IeN5w7/mF+0zvki8gDzGj8jF6tPZPB1Hm0dOruqN8bzh3/ML9pnfJDxvOHf8AML9pnfJF5AHmNH5GL1aeyeDqPNo6dXdUb43nDv8AmF+0zvkh43nDv+YX7TO+SLyAPMaPyMXq09k8HUebR06u6o3xvOHf8wv2md8kPG84d/zC/aZ3yReQB5jR+Ri9Wnsng6jzaOnV3VG+N5w7/mF+0zvkh43nDv8AmF+0zvki8gDzGj8jF6tPZPB1Hm0dOruqN8bzh3/ML9pnfJDxvOHf8wv2md8kXkAeY0fkYvVp7J4Oo82jp1d1RvjecO/5hftM75IeN5w7/mF+0zvki8gDzGj8jF6tPZPB1Hm0dOruqN8bzh3/ADC/aZ3yQ8bzh3/ML9pnfJF5AHmNH5GL1aeyeDqPNo6dXdUb43nDv+YX7TO+SHjecO/5hftM75IvIA8xo/IxerT2TwdR5tHTq7qjfG84d/zC/aZ3yQ8bzh3/ADC/aZ3yReQB5jR+Ri9Wnsng6jzaOnV3VG+N5w7/AJhftM75IeN5w7/mF+0zvki8gDzGj8jF6tPZPB1Hm0dOruqN8bzh3/ML9pnfJDxvOHf8wv2md8kXkAeY0fkYvVp7J4Oo82jp1d1RvjecO/5hftM75IeN5w7/AJhftM75IvIA8xo/IxerT2TwdR5tHTq7qjfG84d/zC/aZ3yQ8bzh3/ML9pnfJF5AHmNH5GL1aeyeDqPNo6dXdUb43nDv+YX7TO+SHjecO/5hftM75IvIA8xo/IxerT2TwdR5tHTq7qjfG84d/wAwv2md8kPG84d/zC/aZ3yReQB5jR+Ri9Wnsng6jzaOnV3VG+N5w7/mF+0zvkh43nDv+YX7TO+SLyAPMaPyMXq09k8HUebR06u6o3xvOHf8wv2md8kPG84d/wAwv2md8kXkAeY0fkYvVp7J4Oo82jp1d1RvjecO/wCYX7TO+SHjecO/5hftM75IvIA8xo/IxerT2TwdR5tHTq7qjfG84d/zC/aZ3yQ8bzh3/ML9pnfJF5AHmNH5GL1aeyeDqPNo6dXdUb43nDv+YX7TO+SHjecO/wCYX7TO+SLyAPMaPyMXq09k8HUebR06u6o3xvOHf8wv2md8kWPpvqPZmp9Dfr9jVn6SgR5aobjvLus7XkoQs07XUpUfkrQecY69/eJWA6+ZxtPrw7ZbCrpq+dWJTVH4Rh0/q5sDDzlNd8bEpmn5RRMT+M11foAADzXdAAAAAAAAAAAGK1obSa1qJKSLJmZ4IhHpmpGntOe5aoX1QIzucbHqkyhWf5GoZU0VV/DF0mqKeMpGA06bWaRWWeZpFUiTms43x3kuJ9qTMbgkxMTaVvcAAEAAAAAAAAAAAAAAAAAAAAAAAAAAAAAAAAAAAAAAAAAAAAAAAAAAAAAAAAAAAAAAAAAAAAAAAAAAAAAAAAAAAAAAAAAAAAAAAAAAAAAAAAAAAAAAAAAAAAAAAAAAAAAAAAAAAAAAAAAAAAAAAAAAAAAAAAAAET1I1GoemlvqrVYUbjiz7OLFQeFvuegvQRec/MX64I5Z3DijW+5HL5v+pynJZqh0tSoMFrPkpSg8KV+pqWRnn0bS8w9HTcnGcxtmr4Y3z+zq5vHnAovTxng564zuL/UKT2dpUqtLhvzWjffRGVtbisGeEElP9pR4V5SsmWOnf04pmX/fUOcioIvGrHJJZK7RyQs8mXpIzwY9jUlqqXfr/X6RLmOMtsynE7z/ALLaOhF3dMf/AHGxcGms9yx3Lqgx5LrbEgo6thKdStJkeDLySPrgy7i6jr5nBzebxasTAm1FMzaIm26P+fVu2nZvS9OytOWx8OZrqiJmqYibzPHjvtHBLG+Jm9qDbsep2vc1Sp90od3rlQMtGlhJJMjNST69d2SMsGXf06DvHgV/pGmtaKpF0h1nXGhXi8Wyl1ZCUssVdRFnslpLCW38EZltwlfcRJVglfnZoHbMO8LiOh1N9yOh6O6RuNtkpRbU5LyT/XzdBBrpsK67AuRb7cs4c2E/zMZ9pam1tKbVlDhK6GkyMiMj9JD2qcajVstFddFpjdf1vEfo13VNPp0rM+HRN6ao2o+yZn9n+kEBTvCLrQ7r9w9WfqXPU2dVmQzi1YkESSKcwo2nlEkvskpSDWReZKyFxDXqqZomaZ9HVje5Z42K4uBcmjtCqOrFe0+t2uXFLjVuq0q4FUc0x0xTUne+SiSREsixvyWT9JiKabahosPXluy9Jde67rJZb1rVGt10qpX2639EyGCI2DRPQR7O1PKezMzx347sW3xFaRVrVHUTRyY1aUOvW9blwyplwNzDYUy3GXFUhJqadP8Aika8eSlKj8+POLKk2FbtBsuuW9YdpUikFOgyW0RqbDZiNuOrbUSckgkpyZn3mIilbB4x6hcWkNQ10vfRerWpZ8emMy4Eo6rHlvVWWt02uVjspJC8GvYSXFkglGruIiyfs2vxMXf9ZlWdq1ojOsSq1CizK5QErrkeoNVJmMglOtLWykuweIlJPYZK6Z6njBxBrhmvW8OA6icP9fjxaNdcKmRlHHlvIejplx5PbIadWyaiNCtpJM0GeCV58YHlaQ6C1GDVJtSd4N7Q01mQqJOit1WNcrc6TLlusm2nlkNFtQ0olLybyknhSenQw3Dep/HFep2xZWoVb4Yrhi2heymIcKoRK9DlSFT3sk00iNhCjbWpOCdWpvp1NJdM2dpLr1c97ai17SnUbSWXYdy0ins1iOwqrs1JmZBdcU2lwnWUklKyUnBo649Jit2tENUE8NOhun6rYxX7OrtAm1qJzsf/ABVmM4ZvK39psXtI+5ClGfmIxZsKwbsZ4r6nqW5ScW3IsiPR25vbteVLTMW4pvs93aFhBke407fNnPQBAtd7wtuwOK3S+8rvqrNNo9Js+6ZMuS8eEoQko3tM+4iLqZmRF1Me6nifuSLalhXdcGkL1HZ1EuyPQKZElVfEpmE/uNqa+jsMIWpKd3YZPBKLK89B4vEtwvs8ROtGn7t2W+/MsqkUWts1GWzOQwuLMeJnlTJJLJxZ7kqUW1Jpykt3Q8HGbg0w4mK7pDa9Hrlsx65eOkd5Q6lSnnqpHabuynRjUltwnN5mw8baiJXaknyk565AWxefEb9UdRb2sD6nc39TrGO9Ob+kez5ry3E8ts7I9n9XntNyu/7PTrX7XGffkb6lVGvcL9xxKNqG001bkmPXoUiRLnuM9o2wtjKexQos4dWsvJLcaE9SLw3dN+IXULUXVDUK7tI41sJunS9dtUmC1cMWcs5m900suuJNBJWZrzki7MiNPlmecTGs6Q6iS7W4badHt7fIsGsUyVcSObYLkmmqc4y4rJrw5hxRJw3uM85LJdQHu2NxMVysnf1Ev3Riv29dun8RioSbfpchFbenR30qUwcZTCU9otRoMtmOh959+FmcR13y9QqNp1qtovMsSbdVNk1O33FVpmoFJSwklOsvkhCTjvElRHt8su8t2SEV1E0Y1nr2oGutbsSQdBdvK0KNTLdrBTUNmuWx23bILYo3WTwsk7zSX28kZ4PFeaY8P2pFO1u02v5rhjomnNLoEKpwq2/EuOLUJst92LsRIfWRka0qV0Se5xzKlGokl3twvDhx4i7w4gWDrq9FJ9tWz2clCK1IrLD7b8tmQbfYtNElLqkmkjUbhpSklEaSzjcf01hqku9dYbH0EjzZUWlz4sq6LjOO6ppciFFWhDMXekyUSHH3EmsiPqls0n0UednhE0+u/S/QmjWbfVI+jKxElz3Xo3MNPbUuS3XEHvaUpB5SpJ9D6Z69R5l+RlWpxaaeX3PwilXHb9RtEn1dEtT+0RJYQZ9xdolDqS9JpIvOA06lxbxqFYeqdyVmxTj1vTKuHQvoRNU3HUnHDbKGtDptFsJ8nUmRbFbevVQ2bp4kr5ZuqTYmmGhc2+LgoFNiVC6GWq9Hgx6Up9G9EdDzyP8AGHsEo9pJT0xkyzgqt1j0klXHxw2dSqZUGzoF0wo1z3TTS673KOtRRXVF5iWt5tHXv7M/QJzW7U1z0a1kvjUDSTTCDqDSdSEwpMiMuvM0t+lz47XY71m8RpdZUkknhHlEZH09LcPdgcWVuXAzpLOte2ZUqHqjVpVHXzcgo79IfjtrU6h1skrJa0rbUg0kpPpyfcNytXfH1mvrUrhyepcukOWxS6ZUI1diVJSX+ZkEtxlxCEoSbamnGkqI96iV5yIuh1C7w0au6cabaU1m06RTrvvGw7snXTVqM1UUQ2Zip3a9u1HfeIkp7PtEkk14yRGf6CX6P0jVW2tZdW9eta7HgWXRazQaUuOlutMz0tIiNvG6lxaMGS0kZGo9hI64SpWMgLM4bNSqpqrpBR7luAmyrkZyRSav2adqTnRHlMPKIvMSlNmrHm3CzxSHBvblVoGhdPnVmI7Fk3NUqlchR3UGhbLU2U4+0lST6kfZrQZkfXqLvElQAAAAAAAAAAAAAAAAAAAAAAAAAAAAAAAAAAAAAAAAAAAAAAAAAAAAAAAAAAAAAAAAAAAAAAAAAAAAAAAAAAAAAAAAAAAAAABqVOq06iw11CqzGo0dv7S3DwWfQXpP9C6gNsB5NBuu37mS6qh1JEk2TInE7VIUnPcZpURHj9cYHrAAAAAAAAAAAAAAAAAAAAAMXPsK/kY/NdtdSbmPuSZBmpTilK3F3qMzz/xH6UmWSwfnHCOuunrto3LXip6VOqa7SoMRCVhbrKzNSdnTuI9ye7vSY93Q8WmiqumfWIn8L/u6mawKseaYp/8AbuL9faWxp5qTRdUKAvlpdUcdZnmnqkzIk4URekyM8l59o9O49XK9Ubc+jI0Wmu0+qJYUt6VJJLhrb3KUTW0jz5KjPJl8RT+tE277iq6269KkrhtGo4rJkSdpK7zwXowRekQdmoXA5E+h0zJHJNGa+xM8bTwZKMi/keDx6RwRqMYGPieHExTM3t9fX8W1V6RjzgYeHizG1Tuv849Pwjctnh2pjku9n6k7MbhG+Tqi/ikR9em0lH3942uJDS67YFyP3IThTKdIJO4zc3KaIu9J/oRH3jwbOpCaDSirXYKbbPalRqPqSM9f5CRUu9JVcosmhzX3lxHpK2zbUfRt3Hkpx+vd/tIdLKavTkr4OLTeJm94/Zt+d9iMTWcHCzOXxYpxIoiNirhMRefi9J3+sP0O/ooXnHeGyqJUybTbV2S0NJ7k7eWime0vMW41f7cjs8U9wl6UOaN6E27aMxpxuoOtrqM5Dn20Pvq37FfqhJpQf+gLhGGYxIxcWqunhL5lVROFM0Txjd8wBDL81So1gVWiUSdRa3U51wHITBYpcVL61raSSjSZGpOMkroZ+SWDNRpIsjxHOIGz4to3DddTo9fpzlqvNM1akyoiET45uKSTatm80KSolEolJWZGRHjr0HFaWN1nAK7XrXRWaFEq8m0rrYlVOYqHS6Q7TiRUKgaUks3GmjX0b2nuNThowReVjpnWmcQNnU21p9z1Kk1+I5SalHpVRpTsJPPxH31JS3ubJZkpJkolEaFKyX2cn0C0l1mgKq8YSiorB2zL0+vmNXnWSkQaW7SkdvPZye5xoydNtKU48rtFoxkiPr0Hh39qqi67Eo9ctORWqJIZvWm0ioxX8xZbCykpJ2O6SFGRkaTLJEo0mR+cLSXXiAr6q622pTYN2VdmDVKhTbOQRVCdDaaUwt/Jb47KlOJ3uIyW7oSU5was9B7lVv2j0iu2vb0mNMVIuxT6YSkISaGzaZ7VXaGaiMvJ6FtJXX0d4llukoCnvGds5NLduJ20LyboMWa5Bm1g6Yg4kNxDptGazS4alJyRHuQlZFkiPCskUht3WehV65odrybauSiPVSO7KpciqwUsMVBtsiNRtGSzURkkyVtcShWPMLaUvCwAFZRdfrUkz4RfV+5WaJUpxU2HcL0BKaa/INRoSRK39oSVLI0ks2ySZ+fzjbha1UKpX5UtP6fbNyyJVHl8rUZyISDgxMtE6lxx7f0SZHgum7JH5JFgzWkusIeTc9q27edIcoN00iPUoDjjbpsvJySXG1EtC0mXVK0qIlJURkZGRGRkIRTNfrUqcyApNAuWNRKtLKDT7hkQEop0p5SjSgkr3m4lK1FhKltpSZ4wfUhp3hdOq1F1KtSE47QYVrVmuHTkMsJW/NktlGdc3uLWRIaLLZYSgjP/ADvMFi6UWno/pvY113BfNr2sxDr90u9tVqgbrrr0g852kbildmjPXYjanPXGRMRWeutw6oWxaFUrtgroMSNS6bImy5k8nHnyUhJmlDLJESDM8faWrBf3VCVTZt3PWZHmWrHpsuuSIzCm/pF1bMfcok7lrNtJqwWTPakiz3ZLvASIeVc1rW9eVIcoF0UpipU55xp12K+Rm24bayWklJ7lJ3JIzSeSPuMjLoIdoxc15XHQbhXeM6FPqtKuCdTUqiscuxta2ElKU9VEnJn1UaldepmPOsu6NU3dXZlp39IoTUU7fKqR4NJQtSGFHJ7Mt7zhEtxW0jyZJQnr9nzhYWslKUJJCEklKSwREWCIh/RWl33rVplXrFIolyQ7Zo1sMtuV6vvsJeW04tO9MdhC/wCGSyQaVKWslkW9CSQZn08ehX9UaWZVti/pt2UBmdHp1XarFGTTqjTVvmlLTxJSyxlszWjJKayaVbkqPGDWLrjAV1cGt9v0OuVSixbZuetpoKEqq82lU9L8aAZp37HDNZKUok4UaW0rMiPrgajvEDbRnbjFNtW6apLuqj/TVPiQYTTjps5SRpX/ABSShRbs5NWzp9rJkRrSXWgAqFHEvaz9Mm1SFZF7ykUZTiK223SUkukKQZ7kyNzhEZkRGoyaNwyT1MSWv6u0GkuUuJRqNW7nnVeEVSjRKLFS65yh4w+s3FoQhJmZEWVEZn0IjC0l05AVdV9TbRua3bRuOLU7mhR6nckenttQdsd9MwlrSqNMQs+jZKSonElkzwWMl1H10pq1VqN7anxKhU5cpin3E0xEaeeUtEds4bKjQ2RnhCdxmeCwWTMwsXWYAhN3aq0u1q63a8K3K/cdZOLzzsKixUPOR4+40k44bi0ISRmRkRbjUeDwRjVk63WYi2aPcdNZqtVcr7y4tOpcKGap7z7ee1bNpRpJBt7VbzWaUpx1Puyst1gAK58OtptWncl0VCk1yA9aSSXVqRKiobnsErBoPZv2KJRHlKkrNJkR9clgec7xF23Fnw6dUbIveE9V2jcoxPUf/wDFVFj+GwSVmpK8GSsOk3gupmRBaUutcBErD1IpV+rqsOPSKvR6nRH0MT6bVWEtSGTWnchWEKWhSVJ6kaVH3CWiKAAAAAAAAAAAAAAAAAAAAAAAAAAAAAAAAAAAAAAAAAAAAAAAAAAAAAAAAAAAAAAAAAAAAAAAAAAhlXQiqalUqmzE740CC5ObbUWUqeNW0lY85kXd6BMx4twWpT7hcjynZMyHLi5JmVCe7J1CT705wZGR/qQCNVxLkjUCV9GLU27Ht94pDjR4USlGfZkZl1I/OXnHiwbzqTjlvVVyovfRVPZbYqDhuH/HfcYUo93XytpJT3+dXpFhUW16XQoz7MXtnXZZ5kyZDhuPPHjGVKPv/l3foPNLTi3Stpm1cSOTakFJNW5PaLWR58o9uDI+7uLoCIuwq4qhKtyC9XqjEfrTsqpSOyePLTG3yGyI8kRERl0xgjPPePmdxV2gUavQ4VRmz1NVhFNgvyFE8+k1EW7qeNxl5iPpkWEq34Kq8zcJrd5iPFOI23kuzSgzyZ4xnPm7+7zDR+otEVSZtHeOQ61OlrmrcU4ROIeUeSUlSSLGDLp/xyBZEYdQuGiFVZO25fo1FLeeU5WVINaJKfs9maTPBGR9wk9h0iowqRGqNVr1SqEmZFaUtEl3chrpnyS789cGZmZngf36g09dKnUuVWKzL+kEJbdfkS+0dJCTySU5LaRd/wDZ85iSMtIYaQy2WEtpJKS/QiwQDMAAFAAAAAAAAAABBtTdLKTqC1Fn7URqzTd3JzNvXYr7TSvOaFYL+RkRl5yOcgM8PEqwqoronfCxMxwfnFr7w0UBVVl1KbR5UGq+QtasmTD6E5yaSLpn9S/29Ryddli2zSKwvlO0USCMsGfRKvT/AP70D9w6lSaXWIyodWp0aawr7TUhpLiD/mSiMhDn9BdEZTinpGkFlurX9pS6BEUZ/wAzNsdvMZqjHp3UWqnjMNg0vXPJ0xRmYmuI4fR+MsR7tEKoLcCROTLJDDbEdG9alH0JKU95mZn3EOyOCLgOrFDrLequsNPXEjNvFKpVvSm8OrcTg235KD+xtMspbPqZ4NWCLCu4rc0l0ss+f9K2ppva9Gm7dvM0+kR47uPRubQR4EsHRqpw53xG929R9rc1msPwcD3ItMX9bT6fSAAAGpqW1mrS7e1d0uqyaPUamlg6v2jFPZ7V/YcdJGpLeSNeO/anKjIjwRn0EKvqhXZftG1Lvun2XXobFZYo9MpdPkwHG50tMaQSnH1R8b0l5ZkW4iPajOCIX7WbJpVcuu37wlyJaJlt8zyqG1pJpfbtkhfaEaTM8EXTBl178iQjK9kspLXWzqpOuSzL2bg3PMpdETLiVJq25TzNRZQ+hBJebJlSXFkSkYUlPUyPuPAidaspiZZk2qWhZl/HJqF0UFx5+4VSJE2WzHktmbvZuqU822hJqyayT0LPcQ6ZAS5ZWdUpFVc4iaDW26ZLVTmbVnR3JhMqNlDqpDRpQa8bSUZEZkWcmRGKzvWx7mrVCuylt0OuN/SOp8KW25FjOJd5TEclSWzJJ+QnCj7QvJI0n16DpgAuWc81Kybtpmm186AU6gy5UVqmuyrXqCWD7KTHWvfyrrpFsKQheU5UZGtKkq6nkxtFX6zfepGlsuFp3eFNh0FU36RlVSkORW2HHIRpJGVdT6pxvxsMzIiUZngX4AXLObVWpdJ8KNzW59Wqr9LSJ89bUDk3OYcSqpGtJpbxuMjT5RGRdS69wsa96VWpOoumk+nUyQ83TyqhyHiZUpqOpUQko7VRFhBGroWcZPoQswAuWchVuFe9w29SY1xWnqpULyjXDAk1lx7mvohlDcxBqUwyhfLutknG3s21KIiNSjLGRcFm2pWJdU1kp8yFLgN3BVVIhSHmVIQ6hdPab7RszLC0krJZLJZIyFugFyylNPbtuWkWra2mD2ktfcrVKRFps9yXENqmMNs4SuUmWZG24WE7kJRlRmZFhPUyk+qNLqdQurTeRAp0qS1BuQ35TjLKlpYa5OQnesyLCU7lJLJ4LJkXnFiAFyyFa10+fVdIrwptLhSJkyVRpTTEeO2pxx1ZtmRJSlJGajM+4iEmoDbjNCprLzakOIiMpUlRYNJkgskZeYxvgIqu9GKXU6XGvBNTp0qGcq76nJYJ9lTfasrUja4ncRbkng8KLoYNUuplxBSK0dOlFT1WgiMUvsVdib3OGrs9+Nu7b125zjqLEAW453qzFQ23HFKlzqodI1KjVesQYcdT0lynGhpbK0tJI1OJLDZ4SRmZNnjuH0L6x3O7e9A+pVy0+ZelbhSIb0qnuIYZpyG46Tfce/q21kllw+yNRO7jSRp78W1cmnlLr9WbuOHVKpQa40zy/wBJ0p5Dby2c5JtxDiVtOpIzMyJxCtpme3GTHpW1b8q34zzM26KxXXn3O0VIqamd6ehFtSllttCS6dxJLqLdLKbbqta0rl6jUCpWNclVRX6hLrVLqFOgm9GeQ+ykjbeeySGFNqSZGbhpLbgyyNLRmk1Vyv6VVtumS1U5nTlUdyWTKjYQ6pxg0tmvG0lGRGZEZ5MiMWTdWjdKuqo1CWu8LtpkWsElNUp1PqZIizSJJIPclaFKbygiSrslIyRdRNqZTYNGp0WkUuMiPDhMojx2UfZbbQRJSkv5EREFyyn7Xt+ux7W1njv0Se07Va1WHYKFxlpVKQuKhKFNEZZcJRkZEackZ9CEdmfXCksWNTblouoB2qzacVs41qokNSU1VKUkpEo45pfQkkERFk0o3Z3d3TowBLlnLVrWjdjNiWzDds+4Yr8bVNVQdjTGXXpDMQ3VqJ51w929OFFl3cpJn13H3ixbPfqtkVrVm5qjadfmMPXCxIiMQoCnH5rZxY6DWwk8E4RKzkyPBbVegXAAXLKeqEup6b6uXBek20bhrFHuumQEMvUenrmuxpEYlpUy403laSUSyUSsbc5IzIaNcO7mq7Y2sUzTioMM05NSjVGi09JSpsVmVt7KR2aCLevyEm4hG5Sd5/awYu8AuWc03zQrrv2h6qX5As2twmKxQIlFpNPkwVonzjZcUtbxx8GtPVe1JKIlGSTPBELAvCi1iVqJpFOjUmY7HprlQOa8hhSkRt0LantFEWEZV0LdjJ9BawBcsruzqXU4usWodTk06U1Dms0go0hxlSWnzQwsl7FGWFbTMiPB9D7xYgAJO9QAAAAAAAAAAAAAAAAAAAAAAAAAAAAAAAAAAAAAAAAAAAAAAAAAAAAAAAAAAAAAAAAAAAAAAAAAAAAAAAAAAAAAAAAAAAAAAAAAAAAAAAAAAAAAAAAAAAAAAAAAAAAAAAAAAAAAAAAAAAAAAAAAAAAAAAAAAAAAAAAAAAAAAAAAAAAAAAAAAAAAAAAAAAAAAAAAAAAAAAAAAAAAAAAAAAAAAAAAAAAAAAAAAAAAAAAAAAAAAAAAAAAAAAAAAAAAAAAAAAAAAAAAAAAAAAAAAAAAAAAAAAAAAAAAAAAAAAAAAAAAAAAAAAAAAAAAAAAAAAAAAAAAAAAAAAAAAAAAAAAAAAAAAAAAAAAAAAAAAAAAAAAAAAAAAAAAAAAAAAAAAAAAAAAAAAAAAAAAAAHEPH5flyx7sounsSpvx6OqkpqT7DSzSUh1bzrZdpj7RJJroR9MqMcijpn+kA/yyUb/AFZj/wDNShzMP057FYWHhaFl9iIi9N5+szM75fDfabErxNVxtqb2m0fZYAAG0vBAAAAAAAAAAAAAH9bcW0tLjS1IWk8pUk8GR+kjH6PcF183FfOjhu3LUHZ0ij1R6ltSHlGpxbKWmnE7lH1UZdqacn1wkh+cA7//AKP/APyN1n/WaR/ysUfPv7S8LDr0TxKoi9NVNp9Yvxbh7EYldOp7ETummbw6ZAAH57fYAAAAAAABAdZKrfdIt6FIsdmfhVQaRVJFOgomzY0PB7nGGF5S4vcSSxtUZEZmSTwJ8IFqtaFfuxmknbkCMc2myFS2KgdccpsiE7tJJG1tiyEOkpKlkpK07cY6Kz5Pf0yaIzdE4lrf7rW4et5iP/eE8J6meiqcvVFF7/S9/utef/eMcYg0TXdm07Tal1O8KXdcifXF0qnSJ6k0NTG1G9aah2jaUsKbIlZMm/KyjCcmNum8RU+5GqQzZ9jxqpOqMepuPIOuIRHZXBcQlwkPpaWTqFbyNC0l1ynJERmafN8Dd9nAWhdv0tdYcqv00deVezxzyl7Oz3l/5J7Hb2ZbNnZ7Nv8AZ849WBYGpsOpUysyaBR6hOpkKbBS/MvV9ankylIU4peKUREZGhJJJBJSkum3uGz4uDpMxNUUU1VXnjXTEcJtupqpjZvbhszx3RG54VGJqMTFM1TEbv5Zn1i++qJm9r8bx9b73yqGu1Uum24ybDs56VLqVrO3BLW7Uyi/RzJ7m0khWxXaO70rwXkF5Gdxeb7Vm6rtpfCozdlHmrerSbVjyFTJEpROpUphO97eaVmpwsmos9595l3jwk6IX1GpVJpdKo0CmHS6U5RFSYl7uoemQVqNRtPGdJNJ+UZmSkElRZPBiSyrM1Il6aeCtyzbaKk/RaaT2ybxf5jsUoJBK3fRe3dgu/bjPmGOJRp+FVhxl4p2YxIqm9VMzNMTPG9dp3WtEW+t5WirOVxXONNW1NExFqZteYjh7vzvvm/03I9N14jaSU6FaNUhRZdRpdHbqtVOp3dufUlxSjJEdyQjtJjxpJStmEERbUkfVJD06rxR2xBuhdHjRID1PjS4UKS87WGmZxuSSQZKYhGk1vIR2iN6tyceVglbTCv6b6l1qsor8KiUqhzlQUU6U9S71ebOZHQeUJc30leDTlWFo2LLceFD+OabalpuZ+5aXRKZS+eeYk1CDDvd9Mea60RElbm6lKcSZpSkldmtG8iLdnqM4wtJxIivFoiapiZn+9j4pmP90/7tm1/Ta+aTiajROzh1TsxMW/u54Wn6R9L8PXZad46q3VcNTopW9Q5FOt6PfcWiLqzdV2OzFNuKQ82qOlJfwTUSk5NZ529UkP5pfqtdVMjQYd1UKTOpVZuiqUeJWV1XtnyfKS8bTamVJylvCDbSfadNpFtIsGP5I0ev96uprDVEpseKitouJNJavd4oSZ5HlThJOkmvCjyZp34yozIiPqPnS9Fr6ps+PIeoVOqEKJPl1SPTJd8PHEalyDWa3SJFJSvJdookkajSWc4zkz5KqdMnK+Bai3H4ove1Xrt/FeYv/L9HHE56Mfxb1X/pm3GPTZ4Wif8Ad9XtUriSpTtUq0CvUinxUUykS6yr6NrrFSeaajqJK2pCGiJLLx7kmSSWsup+V0MeZqVqdfatLa1U6vac60FIi0+pRKlDqhvo7FyS2S21uIQ2bTpJPykFuIyM8KMadB0OvWiOspft+l1WFHo8mgsQJ16OKjtQXzTuaIm6QhXTaWFGo1ekzwWPsrRzUWTQZtu1eDGqsaXHjQ2zmX08o40dh1LiG20lSSR3pIjUtKlmRYNQlODpGDmKcXCim0VUzPvxO6J32vX8uO1tR6Qs4mo4uDVRiTVeYmPhn1jde1Pz4Wt9Vn6fX7J1Et2TddKobbFLfccKjOOzMrntJyknVpJB9gSlkZEWVKx1MiPyRXVi6zX87bcBiuW5DrFx124KlTaWy1USZaNqO672innCjkTaGkoJJGSFqX5JmRGZkUgtO29TbLlVh2hWVa7cSsTDnKgKvCQcaM8ov4imUlSyUgln5Skmoy3ZMiLJiMJ0f1BYjGzBotNhusVd+tU2Szerva0x941G8lg1UkyNte9W5DpOEef5DpYOXyEV4tNVNGxM0zTeuLxFqt0zFd+MxtW4xE7Nvdh2sTGzc04dVM1bURMVWpm0743xE024ROzfheL+qyrT1GRctn1S5ZFFegTKI9MiVCAbpOm3JjZ3oQ4RES0ngjJWCyRl0I+grG2NQr7QmxLruLUJCk3o8y47RXaA6UBlmRns2mJbLCjS+np0edwrqfklgxLbOt7UqyaEqg02xLUktvvPSZciZeMp16W+6rLjrqvowiNSjPrgiLGCIiIsCK03Ru/qZKpqGqLAdo1GnFUadQnb6fODEfSZmg0YpROmlJmZpQpw0lnuwLl8LJYdWNTOzszPu+9hzOzaqLRtTVszeYmJ42j4omN8xsTNV04UxtXiN+6uIveN82iL7omPlf0twktN11dmzaZUJNnORrUrdWeo1PrHPEp5x9BrIlrjbC2NLU2skqJaj6EZpIjHypOvqpH0TWa5ZrtMtq4m5blIqRTkvPOpYbW7l5gkF2W9ttak4WvuLOMjxqfpJfNOrcapItWiu06BPeqkKiO3s+qnxZbm7c6hH0US+9azJKlmhJqMySQ2LQ0ar1Nr0BVfoEByg01MxMCnKux2ZHpvboUSiZZOnNKWR7jR/EeVsStW3uIjzxMvpFNNVUUxw9K4v/Na3vz7/wAN+NM2m0cL40Y2o1VUxeeP+Wbfy3/l+H4rfzcLz8tWqa33RW7bkRpFlLt5NftKqV2kT2awTr6GmWkm2akJbSbbhk4lXRR7enUzzjSPiXp9k2/RKXUGodSl0+26dU6u9UK63Fku9q0k9sdtwlKlPbcrNOU95eUZqIh51D0a1BcqJtHQqpHplOtubQY0OuXJHW3iSttKkRXo7Di0NIbSo0rebUsz2JNJEWS9xekWobTsORRqPT6M9HpkakyXIF7uoVOjsFhvtjVSVYWRZLe3sVgzIjIsY71WDo1E+FNNM08bRXERe82vM1TPw24TMbX3urGJqdUbcTVE8N9F5t9mzEfF87Tb7l6xZLUyKzLYMzbfbS4gzLGUqLJf94+o+EHmuSj86y0zI7JHbNtPG6hC8FuSlakpNZEeSJRpSZ9+C7h9xoNUWmYhttO+AAARQAAAAAAAAAAAAAAAAAAAAAAAAAAAAAAAAAAAAAAAAAAAAAAAAAAAAAAAAAAAAAAAAAAAAAAAAAAAAAAAAAAAAAAAAAAAABwB/SAf5ZKN/qzH/wCalDmYdM/0gH+WSjf6sx/+alDmYfqD2O/wLK/0/wDMvhXtJ/iuP/UAADZXiOpoOp186W8Itk1exK4dLly6/NjPOFHae3t7n1bcOpURdUkeSLPQfWs2fO4odLLdvyn0Smwr5VXPoWfJYaJhqa3tM+1cJPnSWFGeD7lERdSIoXb2p+iNV0RoGlOpcW+EPUWoyKgT1CaibVqcU5tLc8vJltc6+SXXzjec4oqVZ8606NpJaL9OtO1pS5a41QeJUqpOLSpC1OqTkkntWrGM9cH3ERD5xVp2cw8WvEyOX2cxGLiV7cxERNMzVMUzN71RVuiI9OO6zdKc5lq8OmjNY18GcOinZiZmYqi15iOETG+8+vDfdqvcMtsVV2tUDT7WumXLddBZW9Ko/wBFuxiX2f8AWJafUtSXDSfToWM4zgb7fCtZkOPan1n10iUedeUZh2mQ10Nbq1uOEXkGpL2EpI1JSS1YIzPGCH0ga26CWHWK9f8AppaF4HdlZYebZZqzsfkIK3jy4pGxRrUWe4lZ9Hk5EXvvWe17nubTKswIFVbYsuJAjz0vNNkpxTDqVrNoiWZGRkk8bjT+uB2sOr2gx8SKKa66cO0+9VRh7W1sTNrbMxs7VoibXnfF53S4K6dIwqJqmmia78Iqr2bbUb73ib7N777cN3GG9QuFWtv1O603bcyaNSLVm/R7s6NTXp7kp4yJSSZYbMlq8lSTPr0zjrg8RfWHRKbpZGo1bh1z6boNebUqJNVBchupcT9pt1hwzU2ovQZ+nuwLXY4rrTmVi96ZVWr0p1vXLUk1OnzqFLREqsNwm0IUk8ObDSezONxl6SPzVhrdqrQL+bo1GtV68JFOpLSu0l3NWnpkqW8r+2bZuKabMiyWUEWc+YiIh2NMzHtBiZ6jzkTFExF4tTs22I33+KKtvda8/wBNt7hz2DpFGVq8vMTXvtN5vfa+XC2z9I+2+5VYAA3VrAO//wCj/wD8jdZ/1mkf8rFHAA7/AP6P/wDyN1n/AFmkf8rFGhf2k/4FV/VT+rbfYr/FY/pqdMgAD87vsYAAAAAAAAAAAAAAAAAAAAAAAAAAAAAAAAAAAAAAAAAAAAAAAAAAAAAAAAAAAAAAAAAAAAAAAAAAAAAAAAAAAAAAAAAAAAAAAAAAAAAAAAAAAAAAAAAAAAAAAAAAAAAAAAAAAAAAAAAAADgD+kA/yyUb/VmP/wA1KHMw/Rric4Y3tcHqdcVu1mLTq9TmDhmUwldhIY3GpKTUkjUg0qUoyMiPO4+g5+/wf+snrLZn++Sv+nH372T9rNHy+j4GBj48UV0RaYm/zfI/aD2f1HG1HFxcLCmqmqbxMOZgHTP+D/1k9ZbM/wB8lf8ATh/g/wDWT1lsz/fJX/TjYv4x0L/VU/n+zxv4b1XkVOZgHTP+D/1k9ZbM/wB8lf8ATh/g/wDWT1lsz/fJX/Th/GOhf6qn8/2P4b1XkVOZgHTP+D/1k9ZbM/3yV/04f4P/AFk9ZbM/3yV/04fxjoX+qp/P9j+G9V5FTmYB0z/g/wDWT1lsz/fJX/Th/g/9ZPWWzP8AfJX/AE4fxjoX+qp/P9j+G9V5FTmYB0z/AIP/AFk9ZbM/3yV/04f4P/WT1lsz/fJX/Th/GOhf6qn8/wBj+G9V5FTmYd//ANH/AP5G6z/rNI/5WKKab/o/tYTWknbns5KDPyjTLlGZF+hcuWfaOvtDtJKfotYMezoc5U19Ty5k2UaNhPSFkklGlPmSSUJSXXOEjSfb32l0vUNK8rlMWK65qibRfdEesto9ktEz+Tz/AI+Yw5ppiJ4/VYAAA+KvpoAAAAIp4QI6cE5btYJXn2ttmXt3kHhCier1a9018wEulYCKeEKJ6vVr3TXzB8/CTB5go31dre80b/6lrGM4+8Aul4CKeEKJ6vVr3TXzA8IUT1erXumvmAXSsBEI+pMGSyl9u3a3tX1LLLXzB9PCFE9Xq17pr5gF0rARTwhRPV6te6a+YHhCier1a9018wC6VgIp4Qonq9WvdNfMDwhRPV6te6a+YBdKwEU8IUT1erXumvmB4Qonq9WvdNfMAulYCKeEKJ6vVr3TXzA8IUT1erXumvmAXSsBFPCFE9Xq17pr5geEKJ6vVr3TXzALpWAinhCier1a9018wPCFE9Xq17pr5gF0rARTwhRPV6te6a+YHhCier1a9018wC6VgIp4Qonq9WvdNfMDwhRPV6te6a+YBdKwEU8IUT1erXumvmB4Qonq9WvdNfMAulYCKeEKJ6vVr3TXzA8IUT1erXumvmAXSsBFPCFE9Xq17pr5geEKJ6vVr3TXzALpWAinhCier1a9018wPCFE9Xq17pr5gF0rARTwhRPV6te6a+YHhCier1a9018wC6VgIp4Qonq9WvdNfMDwhRPV6te6a+YBdKwEU8IUT1erXumvmB4Qonq9WvdNfMAulYCKeEKJ6vVr3TXzA8IUT1erXumvmAXSsBFPCFE9Xq17pr5geEKJ6vVr3TXzALpWAinhCier1a9018wPCFE9Xq17pr5gF0rARTwhRPV6te6a+YHhCier1a9018wC6VgIp4Qonq9WvdNfMDwhRPV6te6a+YBdKwEU8IUT1erXumvmB4Qonq9WvdNfMAulYCKeEKJ6vVr3TXzA8IUT1erXumvmAXSsBFPCFE9Xq17pr5geEKJ6vVr3TXzALpWAinhCier1a9018wPCFE9Xq17pr5gF0rARTwhRPV6te6a+YHhCier1a9018wC6VgIp4Qonq9WvdNfMDwhRPV6te6a+YBdKwEU8IUT1erXumvmB4Qonq9WvdNfMAulYCKeEKJ6vVr3TXzA8IUT1erXumvmAXSsBFPCFE9Xq17pr5geEKJ6vVr3TXzALpWAinhCier1a9018wPCFE9Xq17pr5gF0rARTwhRPV6te6a+YHhCier1a9018wC6VgIp4Qonq9WvdNfMDwhRPV6te6a+YBdKwEU8IUT1erXumvmB4Qonq9WvdNfMAulYCKeEKJ6vVr3TXzA8IUT1erXumvmAXSsBFPCFE9Xq17pr5geEKJ6vVr3TXzALpWAinhCier1a9018wPCFE9Xq17pr5gF0rARTwhRPV6te6a+YHhCier1a9018wC6VgIp4Qonq9WvdNfMDwhRPV6te6a+YBdKwEU8IUT1erXumvmB4Qonq9WvdNfMAulYCKeEKJ6vVr3TXzA8IUT1erXumvmAXSsBFPCFE9Xq17pr5geEKJ6vVr3TXzALpWAinhCier1a9018wPCFE9Xq17pr5gF0rARTwhRPV6te6a+YHhCier1a9018wC6VgIp4Qonq9WvdNfMDwhRPV6te6a+YBdKwEU8IUT1erXumvmAWoMQzx9Xq17pr5gF0rAQ927bhlq3UugoaaLzylGalf7E9C9pgC3SQ4cc+9og5KN90Qx5wjLJMPmR+cmlGX/AHBzh/hpHuVfABlyUb7oh8JNFpss0qej+UjJJUlRpURH3lkjI8dCH15w/wANI9yr4Bzh/hpHuVfABqfVylfdv/7y7/4g+rlJPobT5/8A7lz/AMQ2+cP8NI9yr4Bzh/hpHuVfAB/GqdCZbS01HQhCCJKUkXQiIZ8lG+6IY84f4aR7lXwDnD/DSPcq+ADLko33RByUb7ohjzh/hpHuVfAOcP8ADSPcq+ADLko33RByUb7ohjzh/hpHuVfAOcP8NI9yr4AMuSjfdEHJRvuiGPOH+Gke5V8A5w/w0j3KvgAy5KN90QclG+6IY84f4aR7lXwDnD/DSPcq+ADLko33RByUb7ohjzh/hpHuVfAOcP8ADSPcq+ADLko33RByUb7ohjzh/hpHuVfAOcP8NI9yr4AMuSjfdEHJRvuiGPOH+Gke5V8A5w/w0j3KvgAy5KN90QclG+6IY84f4aR7lXwDnD/DSPcq+ADLko33RByUb7ohjzh/hpHuVfAOcP8ADSPcq+ADLko33RByUb7ohjzh/hpHuVfAOcP8NI9yr4AMuSjfdEHJRvuiGPOH+Gke5V8A5w/w0j3KvgAy5KN90QclG+6IY84f4aR7lXwDnD/DSPcq+ADLko33RByUb7ohjzh/hpHuVfAOcP8ADSPcq+ADLko33RByUb7ohjzh/hpHuVfAOcP8NI9yr4AMuSjfdEHJRvuiGPOH+Gke5V8A5w/w0j3KvgAy5KN90QclG+6IY84f4aR7lXwDnD/DSPcq+ADLko33RByUb7ohjzh/hpHuVfAOcP8ADSPcq+ADLko33RByUb7ohjzh/hpHuVfAOcP8NI9yr4AMuSjfdEHJRvuiGPOH+Gke5V8A5w/w0j3KvgAy5KN90QclG+6IY84f4aR7lXwDnD/DSPcq+ADLko33RByUb7ohjzh/hpHuVfAOcP8ADSPcq+ADLko33RByUb7ohjzh/hpHuVfAOcP8NI9yr4AMuSjfdEHJRvuiGPOH+Gke5V8A5w/w0j3KvgAy5KN90QclG+6IY84f4aR7lXwDnD/DSPcq+ADLko33RByUb7ohjzh/hpHuVfAOcP8ADSPcq+ADLko33RByUb7ohjzh/hpHuVfAOcP8NI9yr4AMuSjfdEHJRvuiGPOH+Gke5V8A5w/w0j3KvgAy5KN90QclG+6IY84f4aR7lXwDnD/DSPcq+ADLko33RByUb7ohjzh/hpHuVfAOcP8ADSPcq+ADLko33RByUb7ohjzh/hpHuVfAOcP8NI9yr4AMuSjfdEHJRvuiGPOH+Gke5V8A5w/w0j3KvgAy5KN90QclG+6IY84f4aR7lXwDnD/DSPcq+ADLko33RByUb7ohjzh/hpHuVfAOcP8ADSPcq+ADLko33RByUb7ohjzh/hpHuVfAOcP8NI9yr4AMuSjfdEHJRvuiGPOH+Gke5V8A5w/w0j3KvgAy5KN90QclG+6IY84f4aR7lXwDnD/DSPcq+ADLko33RByUb7ohjzh/hpHuVfAOcP8ADSPcq+ADLko33RByUb7ohjzh/hpHuVfAOcP8NI9yr4AMuSjfdEHJRvuiGPOH+Gke5V8A5w/w0j3KvgAy5KN90QclG+6IY84f4aR7lXwDnD/DSPcq+ADLko33RByUb7ohjzh/hpHuVfAOcP8ADSPcq+ADLko33RByUb7ohjzh/hpHuVfAOcP8NI9yr4AMuSjfdEHJRvuiGPOH+Gke5V8A5w/w0j3KvgAy5KN90QclG+6IY84f4aR7lXwDnD/DSPcq+ADLko33RByUb7ohjzh/hpHuVfAObP8ADSPdK+AD6pYaSWEoIgHyKfHMzJS9pl3kroYAN4AAAAAAAAAAAAAAAAAAAAAAAAAAAAAAAAAAAAAAAAAAAAAAAAAAAAAAAAAAAAAAAAAAAAAAAAAAAAAAAAAAAAAAAAAAAAAAAAAAAAAAAAAAAAAAAAAAAAAAAAAAAAAAAAAAAAAAAAAAAAAAAAAAAAAAAAAAAAAAAAAABg4yy7jtWkLx3bkkeAGYAAAAAADwryvOh2NRnK1XJBobI9rTSOrjy/MhBec/+Bd5hxHugOR7014vi6X3GqdOXRqeZmSGIizS4af89wvKM/5YL9BXj8uXKdN+VKdecM8mtxZqVn+ZjljCn1YTW77AcRW9qJetrOpco1xzGkJMj7FbhuNK/Q0Kyn/hkdFaU64U6+XG6HWmW4Fa2+QST/gycd+zPVKv808/oZ9cY1UTTvWK4laYAAwZAAAAAAAAAAAAAAAAAAAAAAAAAAAAAAAAAAAAAAAAAAAAAAAAAAAAAAAAAAAAAAAAAAAAAAAAAAAAAAAAAAAAAAAAAAAAAAAAAAAAAAAAAAAAAAAAAAAAAAAAAAAAAAAAAAAAAAAAAAAAAAAAAAAAAAAAAAON9YL6fvm8JLyHjOnQFKjQUF3bCPqv+ajLOfRtLzDrC8pjtOtCuVBgzJyLTZLyDLzKS0oy/wC4cLjlwo9XHXPoALBsilW5SbMqeolw0ZNZVFmop0OCtw0tdqpO43HMdTIiMsF3GZGX6lLjoEu52qJXqfY9jQI6FJlmxzqWzkIUnoh1Jlki65HJNTCykB9I8h+JIalxXltPMrS424g8KQojyRkfmMjFzohWxedwVDT2o2PSKNVGYrjsWoUh4zbQ6lveRL6ES0GR9/6dO8jKlBYm5MWdqaX3l9erMhVx3aUsssSySWCJ5HRR48xGWFY9ChLBQ/CpMdXT7ip5mfZsvRnkl/nLS4R//TIXwOvVFps5qZvDRrdbpFt0iZX7gqcanU2nsrkSpclwm2mWkllS1KPoREQ5ua4xb61Acdl8OnDDdmoVCZWaE12dUGaDBl4PBqjLkpUbyf1wk895D+cbqXrpk6R6NypamKDft6R4lbJK9vMRWE9r2Bn/AHVqJOf5EOgLhqcPTux5tUpNrVCoRaBT1OR6PQ4ZOyXkNI8liMyRkSlGRESUljzEIqr9IuKGLqDey9Kr40vuzTy+ERVzUUyrxu0jymEGRLcjymy2OJSZkRmZJLJ4LJ5F4DlK4ePqi2pTX7nuvhZ17o9PhI/j1CoWeiOywhSiLynXHiSkjVt7z6ngbGv/ABSVKkXlb+kOnV7WVZNWrVIRXalcl5zGmI9Khr6NobaWpKXpK+pkgzNJEnr0PJLI6lEYrOpdk29fFA03q9a5e4roakv0mFyzy+ZRHSSnj7RKTbRtIy6LUkz82Rx6jigvjRCvUOddvFZpdrhatWqLFOqbVJOnwqzTCdVtTIZZiOqS80kzLfkjPHo7xpa96f69T+M3TRqjcQ7cCTXI9dkWzJ+qkR36vxUtINxg0qPErekyLe5g04yQWLu9hWEfWs5HETUNAk2xg4FrNXKVV53+s3vm12HY7OmMZ37/ANNvnE0sql3NRLTpVJvK6CuStxYyW51WKEiGU14u93sW/Ibz/dT0Ic/Un/1i1e/910T/AJ9QirR0K1Kv/U6g1mqag6S1KwZVPrEinxYk501qlx28bZCcoSe08mWSI0njKTMjFljka0ddtVapwpa0alTrp7W5LTqlyR6PN5GMnlm4pn2BdmTZNr2+laVGfnyNOxC48dbdNaPqhStXLY0/VOp7Mmm0Fy3WZqqijYWHZkhaf4JumRq2tN4SlRdCMhbDobXnVXwI6SXHql9A/TX1fjJkcjzXLdvlxKMdpsXt+1nO0+4TGg1P6bodOrPYdjz8RmV2e7ds3oJW3OCzjOM4IcX6kay1/W/+jy1BuW76RHptx0vt6JWWI2ew5uNKbQtTeTMySfQ8ZPB5LInt766XhJYtjh74dURp2o06jQnqlU3kJdhWvCNpGZMgjI0qdMjLY0ZHnJGZHkiNZHUIDybUpVZoluU+lXFc8m4qnGYSiVVJEdlhcp3+0s22UIbQWe5KU9CxkzPJn6wigAAAAAAAAAAAAAAAAAAAAAAAAAAAAAAAAAAAAAAAAAAAAAAAAAAAAAAAAAAAAAAAAAAAAAAAAAAAAAAAAAAAAAAAAAAAAAAAAAAAAAAAAAAAAAAAAAAAAAAAAAAAAAAAAANOs05FXpE6kuHhM2M7HUfoJaTT/wDccITIkiBLfgy2zbfjOKadQfelaTwZe0h32OdeIXSySzNdv6gRVOR3i3VJpBZNpZdO2Iv7pl9r0H18545MOq02YVxferCzb8mWk1MpztNh1Wk1IklLgTE5bWafsqI/7Ki9P8vQWN+qXzaM6bTpMPTOmwmob5uvsokqUUpGMbFHt6FnqISA5rQ47rCm6sRGKfLh2dY1Kt56eycaRLZUp142j+0lCjItufP8SIyr0BJLCsWsX/XWqRTGlJaSZKlSTLyGG89VGfp78F5z/wBpk3Qb5XtwwUN2FadRrjqDSVTlkhvP9pDRGWf+0pZf7Bcw0aJRoFvUiJRKW12cWE0llpJnk8F5zPzmfeZ+czMbw61U3m7miLRZUHE9opUdabAjxbVqjVLvC2aixX7anu5JDM9g8pSsyyexZGaT6HjJHg8YFb0rjxtOx4qKDxQWXc2mF0RUk3JORSH5dNmOF0NyJIjpX2iD7+7Bd2VYyOpwBXG963fc3HJLpWm+nFm16kaTtVGPULmuusxFwk1RhlZOIiQml+W4S1EW5ZkRFjqRdN2pxH6f0XTPiHh6/XrorG1H04q9BaoddY+hGao9QnmVfwpaWXEq/h7PJUZEWCI8nnaR9pgF0s4hol/cKuqN2UG2eGbhOs6+X3pzZ1irP2QzTKdRopH/ABFuPuxiV2xdNqEpPJkfXPQSvivuCPpNxA6Ma53TTKgVk24zWKbV6lDiLkJgLktIS0pxLZGokGZH1IvNgsn0HWYBdXh2TeVB1CtOl3va0lyRSK1HTLhPOMqaU40r7KjQsiUnJdcGRH6SHP8ASf8A1i1e/wDddE/59Q6cAQcE2F/6DHEV/wDrV4f/ANjHW3D5/kJ08/1Ypn/LIFgAKPzoa/8AQD1+/wBc65/z7QmtwcO7nDnp5ZnEToBEnS7mtOCiZdjD7ynn7npr6UuSydM/tOI+2jBdCT0LoQ7iALpZGtONQrX1WsikagWZUEzKRWoyZDDhfaTn7SFl/ZWlRGlRH3GRiSgAigAAAAAAAAAAAAAAAAAAAAAAAAAAAAAAAAAAAAAAAAAAAAAAAAAAAAAAAAAAAAAAAAAAAAAAAAAAAAAAAAAAAAAAAAAAAAAAAAAAAAAAAAAAAAAAAAAAAAAAAAAAAAAAAAAA/ikpUk0qIjIywZH3GQ/oAKnvTh1tK5H3KhRH10SW4ZqUllslx1K9PZ5Lb/8ACZF+grx/hcvRLplFr1Ecbz0U4t1CsfyJB/8AeOmwGcV1QxmmJUFb3C02h1L103L2iEmRmxBbxu/+Yv8A8P8AtF1W9bVDtWmopNApzUOMj+yguqj/ALylH1Uf6mZmPTAYzVNXFYiI4AAAigAAAAAAAAAAAAAAAAAAAAAAAAAAAAAAAAAAAAAAAAAAAAAAAAAAAAAAAAAAAAAAAAAAAAAAAAAAAAAAAAAAAAAAAAAAAAAAAAAAAAAAAAAAAAAAAAAAAAAAAAAAAAAAAAAAAAAAAAAAAAAAAAAAAAAAAAAIjcerOnlpXvbmnFxXMxCuO7e2+hoKmnFKldkWV+UlJoR+m9Scn0LJiXD8xNddZ9Lbx1G1S1HmXY6xelj1GnwNO2m6XMfSZ017tZBk+0yppsn3TdbPcsuiSzgsCxFx+nYDkG9rsreuGuGjFOszVa7LWte97IqdXllb9Q7BbxETSkl5RKQlxJqNPabd6cKJJpM8iEybj1dt7SjVaPStTbtrMjQrUFiVDmzKk4ubUaO0lpx+JLWgyOSns1uH5ec4Lp0ILF3egDhu89f76lxdZ9d9P7onnQqZ9C2XayDkLcpzEp9TRyqh2Bn2aloOSktxp/sYPJdBNk0u+OHbWjSukRtZL1vek6ky5dKrMG56gmaTb7cY3kSop7CNhJKIyNtPk4P9AsOrgH5zsStVkcLt1cR5cQWpH07Z1y1NVNpx1jdTlMtVHs+xkNqSapCTSZkROLMklgkkRFg5zq9qXfuoeu1T05aVrK1QrbtymVBEfS96NHlOTZaTWb0p151tRtERElLaTMjMlGr9Vku7fAVXwyVjVKs6O0h3WSlVKDdEVyREkfSLKGpMhpt1RMvOJbM0Etbew1bTxuyKzpsa8b/0ruXXpWqd0Ue4Ij1Wl0mHHqKmqXBZhPOoajuxC/hPEomf4inCUozUeDTgsLF3UADmqnSLh1k1fpcSfet1W/RajpvTq5JpdHqbsMlSXpCupLQe9syz1Ug0qUSUkZmnJHYnDrU69Nseo0y4K7MrL9AuKq0VmdNXvkvR48lSGjdX/bWSSIjUfU8ZPqFi6dTLqoMRusbKnGlSKDH5moRI7yFyGE7DWklozlJqSkzTuxkfOybsp1+WhRr0pDMlmDXITM+O3JSlLqW3EkpJLJJqIlYPrgzL9RQFrWVSqNqrrvLi1GvuriUmISEy67NkoV20BxSt6HXVJcwZeRuI9hdEbS6CP2NQbgsXSDRfUSl6jXU9NnS6BTZcB6oKOmOQpW1o2CiFhpOxKi2uEXaZTk1HkLF3XQ+ch3l2HH+zcc7NBr2Np3KVgs4IvOfoIchVK8dTtRJ9716iUbV1dVpFanUq2123MhsUeIcVWxHMMOSkHJNa0mpztW1FtVhGMDp6POrr+niKlXIxwKyujE9LaQrBsSTYytJGR/2V5xg/MFiJu9C2q4Vy0CBX00mp0wp7CXyh1OMceUxuL7DrZmZoWXnLzD71asUmgU5+sV2qRKbAjJJT8qW+lllojMiI1LUZJSWTIup+ccrWlPvO+Kdw60WXqPdMFu4rVqEmtPxKk4mRUDRGYUXaOGZma8mf8T7acmaVJM8jy9VaHOPSTWuyqxeF0VeFZNShro7sytyVSCaksx3FMvuJWRykJUtW0nt+OnnIjJYu7IJRKIlJMjIyyRl5x/RzZqrXa5RbvszRigRNRKhQzoUisTituqkdXlbHUNtoVNlSEOk2k1qUo0ubzygs7ciNVafrJ9SqNbVUrF9Wk1L1IgUuj1CpS2DrK6S80ZqQ+tpbiHTSs3EkazWZklJqIzILF3XADnau2fWS1qs3SmLqjfTFBRaNSlzVJrjxy560y2SSbj+d5KLfgnE4WSS2koiMyOMVbUS/rC03uS0aZX7ircuLqK3Z9OqJrbk1ZuC8lp0yS4+pKHHyStaELcV3mkzPoFi7q111tltbzziW220mpa1HgkkXUzMz7iGvSqrS67To1YolSi1CBMbS9GlRXkusvNmWSWhaTNKkmXcZHgc221Rb5qNSr9tTKLq3TLGm289IfduqvkcxipNLSaOXlRpbj5NuINW9s1kjyehYUZHPeEejRaRw7WKuNInOnOo0WW5zU56QSFqaTlLZOKV2TfTo2jCC64IsmFi64BqVWeVKpkupnDlSyiMLf5eI12jzu1JnsbR/aWeMEXnMyHMd53FqKf130Lty76nGuuq3YhdCqCpTi34tMfjnNM0K3biQg2H2SIjIiIyIunQbadSbi1Hh3DeVHrlTp8O3dMFPPsRpTjSEViWhxajUlJkXaslHwRn1T2h4xkLF3QkG6qPKZoxS5BUubXY/bw6bUVJYmrwglrR2JnuNaCPyyLO3zjTsq/KPff059ERpjP0BWJFEk8yhKd77O3cpG1SsoPcWDPB/oQ56eteNct/8PVfrFcuV2dVaJIflOJuCc2SnG6e0slElLpEk1K/rDSRdpnC9xDzqXZdWqFqa2XrT9RrsosyhXTXZlLYpVRVFjsvstpc3utoxzBKMiI0u7k7SwRFkzNYu66ENunViz7XtaJeSZn0zS5tUi0hp6kuNSEm+/JTGLyt5JwlxWF4PJbVdDMsDboRKvnTilOVqRKaXW6RGekuwJTsN0lONJUo23WVJcbPJng0qIy9I5Ip9stweD+kfRVXqrEqpX3AQT8ic9LKMtNf2IW02+pSEGXRRkRES1dVZMzMIJl226vsmlubFL2JNW1JZUePMRekedbFdK56BCr6aRVKWU1rteTqcY48pnqZbXGzMzSrp3ZFOQabWtN9aWrVgX3dFYpVw2lUalIYrVTcmmzMjPMpS6ypfVrcT6soRhHQsJLBCIUiXqldWgOk9XjT7wrVOejKkXUmg1Uma7Mb2K7JTb7jiFqSTmDWSHCcMsEWSyQWLuphCX9VqMipXpR4lCr0+bY8ePImR4URLzsvtmjdQiMhKtzi8FjBknr3Z7x4fD9VotRt6sRoV+1242IFVWwiNcMJ2PVaN/DQo4UpTv8R5STUaicUWTSsiyrG46p1EqtUoT3E/WKJUpVPnw6DTXo0qK8pp5lwoCzJaFpMlJUR9xkeQiC7qOK/zUZqT2LrXaoSvs3U7VoyWcKLzGXnIR+8r9o9kSbdi1aNMdXc1YZokQ46EqJD7iFqSpzcosIw2eTLJ93QU5Jplfv7XZi0pmoV2Uuho0+g1GRDpNVdiHIkKkrT2huIPehWO9SDSpWCIzNOSOBXBdVz06wLFdqjlYvCfaurkikQ9xk5OntxlSm2ELWeCU4ZbUmtXo3H5zCxd2KAqvh7nVS6bTf1DuG6ZFTrFwyFKmwCccRForjRm2cBphR/w1NGRpWoyJa1ZUfTaReNWIVX1W1ruax6heFy0Kg2hSac8xHoVTcp7suVL7VSnnHmjJakoS2SUoztzuMyPphYuu0BQV8ouKhUaz9Pbl1Ju+vVWQ/N/xS02ERavXI7X9WbkrtW0xiaSpHauEtvtFYwZZ2nWUu+NRj0su+2mbkvChTLf1HolEp0qpzm3qvEiSXoazafeaccQ/jtll5S17kGSVmfUgsXdlAKStylVjTvX2nWjEvi561R7jtmbUZMeuVNyd2UuNIYSTrJr/qiUl9RGhGEdCwksDW4ib1uWDdtk6cUODdr8O4SnzakVquss1N5mMhG1lp111omkmpwjWpKyXtThPeYWLr2EZqF/0em6gUnTd+LNVU6zTZdUYdQhBsJajraQtKjNW4lGbycESTLoeTLpnnd669YrZsms28pu87fp9buij0O3apdD0eTVoMaaskSjN1DrpLNBkrs1uKUou0TnOCEgg2IiwuKCzYUa7bnrTD1nVtSfp2qLnuNLS/DJSkOuZc8roZpNRpIy8kk5PKxddlIvmjVCiU6t1VuTbhVSScONErqEwpK396kpbJtZ9VL2maUlk1EZGRCRDjKXSXb90d0XuG6bkueXUZV6sQHn03BNaUts5cktx7HS/iESSJLv20kWEqIug7JjsojMNx21OKS0gkEbjilqMiLGTUozNR+kzMzPzhMWIfQAARQAAAAAAAAAAAAAAAAAAAAAAAAAAAAAAAAAAAAAAAAAAAAAAAAAAAAAAAAAAAAAAAAAAAAAAAAAAAAAAAAAAAAAAfCfFOdBkQkyXoxyGltE8yZE43uIy3JMyMtxZyWSMsl3GIppZpTa+kWnlP00ttUuTS4CHUm7PWlyRJU6tS3HHlJSlKlqUtRmZJLv7hMgAUtp1wo6faZ3Fa1x0Kv3NIcs2NVIVJjTZTC2Go853tHGjJLKVGlB9G/KLBdD3DWvGzbc0PtXUq66JZt531K1IqS5NQotNjImOKkPsdgSUIQlBtx8JLcpRqNOTPOBeQBcUPoHw3W9aHC5SdDL9t6PIaqUBxdfhG4akqkSFG44neXXKDMkkojyWwjI+hD1NN+FuydO7siXrJu++LxqtKjriUZy6q4qemkMLIkrRGRtSSdySJJqUSlYLGRcgBcU2XCxp8nRCv6BlWLh+r9xy5c2VJ5hjnELkSO3WSF9jsIiX0LKDPHeZn1H01D4YbLv2uU67YV13nZtyU+AilKrVq1fkJcuGjqlh89ikOJI+peTkj7jIXAAXHhWRZ1KsG14Np0WRUZESClRJeqE1yXJdUpRqUtx1wzUpSlKMz6469CIuggdY4bbOq8yptpua7IFv1yWqbVrah1JLdLnPLVudNaDQbqEuH1WhtxCVGZ5LqebZABF4endBp9/OaiRHJTc9dEaoBRkqQUZEZt1TqTSkk7iVlWPtYwRdPOPvZdkUqxYdRg0iRLebqdVmVh45K0qNL0lw3FpTtSnCCM+hHk8d5mJCACBytH6I/e1bviNX67CduOnFTqrAYfa5OWSW1NtvKSptSycQlZkRpWSehZSY/qdHLYTYlq6elOqn0daEinSYLvat9u4qEpKmidPZtMjNJbtqU564wJ2AFlX1jQC359wVWuUW87xtlq4HSfrNOolTTHiz3cElTiiU2pbS1JIiUplbZnjJnnqLFcpkZykro251MdUc4ue0NSyQadv2lZMzx5zyfpyNsAFeW1ofadqrsNdPqFWcPTymSKVS+2daPtmXm0NqU/hstyiJssGnYWc9DH1rWitn3DDvqn1R6ouMagmyqppJ5KexU0yhpBsGScpMibSryt3lF6OgnwBcsret6HUivUy30TLzutuv2ylxFPudiWy3VEoc/rELUTXYuIURJI0qaNPkkeMlkfQtEbfdpdIp9Sua56m9Sa+xcnPT6gT8iTMaIySS9yNiW8YLY0lsiwWMdc2IAXLI1KsGjy9Q4GpbkmYVTp1KkUhppK09gpl5xDilKTt3GsjbTgyURYM+hjw6hofY9Xo11UKrJnyo121f6ckmcjs3IswktEhyOtskqbNBsoUk8mZHnqZHgWCAFkGtDSpi2JEuZVL6u+6pEqKcHfXailxLTBnk0JaZQ23k/Os0ms8fawNvTDTen6VWw3aFGr1ZqNMiqxBbqbzbhwmMESY7akNoPs046btyuvVRiXABZDntKrTf1Vj6xONPncEajqoqD3J7HsVOb9+3bu3l1SR7sbVGWPOPOoGhtkWzbt6WzR+eZi31MmzakrtUG42uSjYtLR7MJSks7SMlYMzzkWEACvKvolb9TgWXFiXBX6VKsRCWqVUIMhpMg2uxJpbbu9tSFpWhJErCCPzpNI3YGktuU63bwtlibUlRb1mTptQWtxs3Gly0bHCaMkYSREXk7iUZeczE2ALjRoVHjW9Q6dQIS3Vx6ZEZhtKdMjWpDaCQk1GRERngizgi/kK2j8OVoxrak2ci5blVRHK9HuCLCXJYUiA+zL5rsmDNncTSneqiWajx0JSRa4AWRmq2BRqvecK+ZMmamfApMujttoWgmTZkraWtRkaTVvI2U4MlEXU8kfTES8Xe0GLTtS2qRX7kpMuymVx6PXIMxtuoMtrLDiVGbZtOJWRFuSps09CPBGWRaYAWRTT3Tijacwp7NOqFUqc2rzDn1Kp1SQT0qbINKUEtakpSksIQhJJQlKSJJYIePcOh9p3K3f7U6oVZstRoTMCq9i60XYttMm0k2MtntVtUZnu3lnzF3CwwC4ilM03odKvj6/x5c5VQ+gmLe7JbiDZ5dp03EqwSSV2mVHk92MeYu8eKjQu0kIp7ZVGr4pt2vXm1/Ga8qa6pxSm1fw+rOXVYSWFdC8o/PYoAWRa39O6Na931+76LMnRzuU2np9OJaOTVJQW05KUbdyXVJJKVGStqtpGac9R5V66PUm7rhbu6nXTclq10ohQH6hQJbbLkqKSjUlp1LrbiFklSlGlW3enceFFkxPgAVbP4dbJcpVvQbeq9xW1OthUhUCr0meRTj5g90ntVvJcS92qvKXvSozV1LA1IXDLY8Kj1ai/WG6ZLdauCn3LLfl1BEh9c2IppST7Rxs1GlZsINRHnvMkbCwRW6At0sj0yyKTNvym6huyJZVGl02VS2WkrT2Cmn3GlrNRbdxqI2U4MlEWDPJH0xo6iaYUDUhmnLqM2p0up0WQcul1alSewmQnTTtUbajJSTJSTNKkLSpKi7yPoJeAiq88CNtTbNq9m3PXrluNFbdQ/KqFUqRrlpeb2m04ybZIbYU2aUqT2SEFkiMyM8jVtbQekW5ecG/6hfV43JW4FOkUpp+tT2nk8s8ptRp2NtISRkbRYUkiM8nvNXk4s0AullYvcP1or01pGmcat1+JGoM9NUptTYkNJnRpSXlupcSo2zbPBuKLBtmWD6kZ9RZEKOqJDYirlPSVMtJbN54yNx0yIi3K2kRbj7zwRFk+4h9gBQAAAAAAAAAAAAAAAAAAAAAAAAAAAAAAAAAAAAAAAAAAAAAAAAAAAAAAAAAAAEG1f1Fk6c2wzMpFMRUq5V5rNKo8JatqHpbp4TvPzIIiNR93QsZLORFWbO4m4ZsVs9ZLfqMs1oW/Q37fQzAIjMt6EyEGb/klnBmWTMizge7rjYlevS26dNtFTH1htmqMVumNSFbWpDrRnllR+YlJMyI/MeOpFkxH/Dze0xpFIpPD1ff1jVtbU1NjIj01C/7RnNNRpNBdcKJPX0ENnyGHVOTonJUYdVczVt7exMxG63x/DTa/vU2m97zuh4WbrpjM1Rmaq6abRsbO1ETxv8PGb+k33WtHFLL61v0t0zmsUu97wjU+c+jtCjIZdkOEn+8pDSFGhJ9cGoiI8H6B9KvrTpZQaJSbkql6QGqVXDWmBMTvcZeNCTUotySMkmREZYVg8+T39BWbE65dHNTrzuOuaXXJc8a8XI0uHULdhlPdY2NElUR0spUhKT+yr7J+j0VnV7auSzmLAqlZsIlvVe/p9di2ulaDXHYcaJSGCyewnCJO8k9C3YI8dcd/K+z+Qx9iJqnfETeK6LVzsTVMUxa9OzMWmapmPns3h1cxrGbwdqYpjdNrTTV7vvRTEzN/e2om8RER9L73RFE4htHLio9WrlFvRqTFobByZ6SiSEvssljLnYqbJ1SCyWVJSZF5xIqrqLZlEo1IuCo1tCIFefjx6a62y46cpx8stJQlCTV5Rde7p58CpKbHqusmsdKvFemVetqg0SjzqdUH7ghFEkVLmE7SYJrJmptJGatx9Mmfd0zGNGLPuOo6opse4VplW5o0/Jbpj3ab+YfkKzG346bmmTPp/ZPHcOHE0TT4pqxNqqnYpiuqmaqapiJvEUxMUxE1bWz6cK43e7N+SjU83NVNGzFW1OzTVFNURMxaZm0ze2ztevGmd++Fwa6XbcFm2vSajbdQ5ORJuKmQXV9khzcw6+SXEYWRkWUnjJdS8xkNWHetv2dW9Q7gujVKTOptJlQylQXqc4luh70ESUIUlJm6S9yTykunn65MY8Q9Hq9btCixqNSpk95q56TIcbisKdUhpEgjWsySRmSUl1M+4i7xWWo1m3VUaVruxFtarSDrM6jqgJahOqOYhCGyWbOE/wAQk4PJpzjB5E0rKZXN5SjDxaop2ptMxs3tOJgxxmJmLRMzFrevpeJZ/MZjL5muvDiZtF4jfa8UYk8ImI3zERP72lcFpa9aRX1carTtW9Ys+qklaksEy62TpJ+0ba1oJDmMGfkGfQjPuIRvTXWWNG00+tuqFypJ16vzqXHWUXc68aZS22Wm2WEbnFbSIvJSZ9Mn5zH01CtOR9d9H36HbryotEqT7bzkaKo0Qo5xFJIlmksNoySS64LOCFOWbpnqDYyKbrMdHrdZfo1xVJpy2H6co3WKc/IUSpERo07zeMz7TcReUkyIuhdefK6ZpeYy0zTVNO3szEVTTNV4nFjZirZiKdq1M3mLRuvfc4sfPZ/Bx4iqL7N4mYiYptMYc7U03mZ2bzuibz6W3uv2nEutodQSiStJKIlJNJ4P0kfUj/Q+ozHzjvokx2pKEuJS6glklxtSFkRlnCkqIjSfpIyyQ+g0qYtNmzxvgAAEUAAAAAAHzkPtRY7sp9W1tlCnFn6EkWTMUrbEjWjWGjIv+h6kxrLo9QU4qkU5iisTlrjpWaUOyHHjzuVgz2o2kRGXXIuxxtDramnEkpCyNKkn3GR95CnaVYWtum0Vy19MKzZ9QtpDjjlPbuBEpEmnJWo1diSmcpeQkzPGdquuM9B7Wl14VOHiRE0Ri3ptNcRNOzv2ojaiab32eMcIm034+Zn6a5romYqnDtN4pmYm+63CYm3HhPG1/p/L91GvPTiqabRrkmc67VXJzFYjUSnG6c91EfLSGEK3OEe8y7lJ/UyT3SW3daKBctArdYiW3c7E23nyjT6I9S1HUm3FERoSTKDUR7iMjIyVjGTMyIjMab2nV6T69p3XLguSBVpVqvT3qpKOPyxvm+yaEdk0kjT5JmRdTLoWep9B4N46KXdcKtRF02uU+L9a5tLlw21rd2OtxW0pcjytqSMm3MGR7DV5J9fQO/FOl5ijDwsaqIqiN9VN4if76YmLWifgm8XtNoiN1rOnNWfwaq68OJmmZ3Uzvn/txPG8/wA0Wn0vM8UspesdEmuVuFVbcuChVOhU1VXep1SjtIfeiJIz7Vo23FtrLJGn7ZGR9DwPFtTiQtC7KlQobVr3bTIlyn2dLqdRphMwpL2w1dklwlme7ooi6bTNJ4My6iM21oReEC5Lkr8ilWJQWK1a0ihx6dbzbrTLT6zylxZm0nfnzq2kZdC2njJyl7Sm4F2jpfb7cunE/ZVQp0uertF7HUR2FIWTR7MqMzVktxJ6d+Bli5bRsOZpiq97b4q3UzszM/O/vREcZ+2eKYeNqdcRVMWt9OPvRb5W92/pH2ej4XBxL2dQV1eQ3al41WkUJxxibWqdSu1gNvN5JbZOGtJmZKLaasbSMyyoi6j3aprNQYZ0qNS6BXa5UarTW6umn01hpT0eItOUuPG44htGT6EW8zMyPBHgc5XjdVatClXnodbd1UdyLOkzm4VPlUWf9NuKkqUvsGW9hMuoUpRkl7dgkmasH0IWdcOgdwSJ1CumiUWxq3Pat6HRahTbugG/HQphHkvMrQlakLyZpNOMGXn7h38fRtMy0YdWPeiKr7N5n3oiKZiZvFNr3nhNr2i8cZ6mFqWex5rjC96abXtEe7N5vEWmb2tHGL+v0XFZl5US/KAzcVAceOO4tbK232jbeYeQo0uNOIPqlaVEZGXsyXUe4IvptaTtlWnGosuNQmZe9b8lNFpqIMTtFnnCGk+YiwncfVW0jMSgabm6cGnHrpy83ovNvs9Pl+jZcvOJVhUzjfFaL/aAADruYAAAAAAAAAAAAAAAAAAAAAAAAAAAAAAAAAAAAAAAAAAAAAAAAAAAAAAAAAAAAAAAAAAAAAAAAAAAAAAAAAAAAAAAAAAAAAAAAAAAAAAAAAAAAAAAAAAAAAAAAEZuvT+jXhWrar1TkzWpFrTlVCGlhaEoccNBpw4SkmZpwfmNJ/qJMA5cHGxMCvbw5tO+Pxi0/jE2YYmHRi07NcXjd+U3j838Pu7xGrC0/o2ntPnQaTJmy3anPfqc2XNWlb8iQ6rKlKNKUlgiwRERFgiISYApxsSjDqwqZ92q14+duH6lWHRVXFcxvi9vv4gAA4mYAAAAAAAAAAAAAAAAAAAAAAAAAAAAAAAAAAAAAAAAAAAAAAAAAAAAAAAAAAAAAAAAAAAAAAAAAAAAAAAAAAAAAAAAAAAAAAAAAAAAAAAAAAAAAAAAAAAAAAAAAAAAAAAAAAAAAAAAAAAAAAAAAAAAAAAAAAAAAAAAAAAAAAAAAAAAAAAAAAAAAAAAAAAAAAAAAAAAAAAAAAAAAAAAAAAAAAAAAAAAAAAAAAAAAAAAAAAAAAAAAAAAAAAAAAAAAAAAAAAAAAAAAAAAAAAAAAAAAAAAAAAAAAAAAAAAAAAAAAAAAAAAAAAAAAAAAAAAAAAAAAAAAAAAAAAAAAAAAAAAAAAAAAP/2Q==)\n",
        "\n",
        "#***click on get link***\n",
        "![image.png](data:image/png;base64,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)\n",
        "\n"
      ]
    },
    {
      "cell_type": "markdown",
      "metadata": {
        "id": "rRqgr5x0MfHW"
      },
      "source": [
        "## **then select \"*Anyone on the internet with this link can edit*\" option and then click on \"*copy link*\" and paste it in the form which will be shared with you**"
      ]
    },
    {
      "cell_type": "code",
      "metadata": {
        "id": "VizugHSIMT-E"
      },
      "source": [
        ""
      ],
      "execution_count": null,
      "outputs": []
    }
  ]
}